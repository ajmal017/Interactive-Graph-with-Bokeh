{
 "cells": [
  {
   "cell_type": "markdown",
   "metadata": {},
   "source": [
    "## Interactive Graphs using Bokeh"
   ]
  },
  {
   "cell_type": "code",
   "execution_count": 4,
   "metadata": {},
   "outputs": [],
   "source": [
    "from bokeh.plotting import figure\n",
    "from bokeh.io import show, output_notebook\n",
    "from bokeh.plotting import figure, show, output_notebook, output_file\n",
    "from bokeh.models import ColumnDataSource, HoverTool, CategoricalColorMapper, Panel\n",
    "from bokeh.application.handlers import FunctionHandler\n",
    "from bokeh.application import Application\n",
    "from bokeh.models.widgets import CheckboxGroup, Slider, RangeSlider, Tabs, CheckboxButtonGroup\n",
    "from bokeh.layouts import column, row, WidgetBox\n",
    "from scipy.stats import gaussian_kde\n",
    "import numpy as np\n",
    "import pandas as pd\n",
    "import yfinance as yf"
   ]
  },
  {
   "cell_type": "markdown",
   "metadata": {},
   "source": [
    "In this Example Class, we are going to demonstrate how to introduce more interactivities to a graphical output. In particular, the module Bokeh is considered here because this module Bokeh, just like plotly, is capable of generating interactive data visualization easily without the knowledge of the Javasript language. Also, the module can handle the visualization of various data types and huge amount of data. Finally, a web application can be developed easily using the service Bokeh server without any charge.\n",
    "\n",
    "To install this module from Anaconda, we enter\n",
    "\n",
    "conda install -c anaconda bokeh"
   ]
  },
  {
   "cell_type": "markdown",
   "metadata": {},
   "source": [
    "To illustrate the basic usage of Bokeh, we extract some simple examples from its official documentation. In the following, the first example is simple scatter plot with toy data."
   ]
  },
  {
   "cell_type": "code",
   "execution_count": 5,
   "metadata": {},
   "outputs": [
    {
     "data": {
      "text/html": [
       "\n",
       "    <div class=\"bk-root\">\n",
       "        <a href=\"https://bokeh.pydata.org\" target=\"_blank\" class=\"bk-logo bk-logo-small bk-logo-notebook\"></a>\n",
       "        <span id=\"1001\">Loading BokehJS ...</span>\n",
       "    </div>"
      ]
     },
     "metadata": {},
     "output_type": "display_data"
    },
    {
     "data": {
      "application/javascript": [
       "\n",
       "(function(root) {\n",
       "  function now() {\n",
       "    return new Date();\n",
       "  }\n",
       "\n",
       "  var force = true;\n",
       "\n",
       "  if (typeof root._bokeh_onload_callbacks === \"undefined\" || force === true) {\n",
       "    root._bokeh_onload_callbacks = [];\n",
       "    root._bokeh_is_loading = undefined;\n",
       "  }\n",
       "\n",
       "  var JS_MIME_TYPE = 'application/javascript';\n",
       "  var HTML_MIME_TYPE = 'text/html';\n",
       "  var EXEC_MIME_TYPE = 'application/vnd.bokehjs_exec.v0+json';\n",
       "  var CLASS_NAME = 'output_bokeh rendered_html';\n",
       "\n",
       "  /**\n",
       "   * Render data to the DOM node\n",
       "   */\n",
       "  function render(props, node) {\n",
       "    var script = document.createElement(\"script\");\n",
       "    node.appendChild(script);\n",
       "  }\n",
       "\n",
       "  /**\n",
       "   * Handle when an output is cleared or removed\n",
       "   */\n",
       "  function handleClearOutput(event, handle) {\n",
       "    var cell = handle.cell;\n",
       "\n",
       "    var id = cell.output_area._bokeh_element_id;\n",
       "    var server_id = cell.output_area._bokeh_server_id;\n",
       "    // Clean up Bokeh references\n",
       "    if (id != null && id in Bokeh.index) {\n",
       "      Bokeh.index[id].model.document.clear();\n",
       "      delete Bokeh.index[id];\n",
       "    }\n",
       "\n",
       "    if (server_id !== undefined) {\n",
       "      // Clean up Bokeh references\n",
       "      var cmd = \"from bokeh.io.state import curstate; print(curstate().uuid_to_server['\" + server_id + \"'].get_sessions()[0].document.roots[0]._id)\";\n",
       "      cell.notebook.kernel.execute(cmd, {\n",
       "        iopub: {\n",
       "          output: function(msg) {\n",
       "            var id = msg.content.text.trim();\n",
       "            if (id in Bokeh.index) {\n",
       "              Bokeh.index[id].model.document.clear();\n",
       "              delete Bokeh.index[id];\n",
       "            }\n",
       "          }\n",
       "        }\n",
       "      });\n",
       "      // Destroy server and session\n",
       "      var cmd = \"import bokeh.io.notebook as ion; ion.destroy_server('\" + server_id + \"')\";\n",
       "      cell.notebook.kernel.execute(cmd);\n",
       "    }\n",
       "  }\n",
       "\n",
       "  /**\n",
       "   * Handle when a new output is added\n",
       "   */\n",
       "  function handleAddOutput(event, handle) {\n",
       "    var output_area = handle.output_area;\n",
       "    var output = handle.output;\n",
       "\n",
       "    // limit handleAddOutput to display_data with EXEC_MIME_TYPE content only\n",
       "    if ((output.output_type != \"display_data\") || (!output.data.hasOwnProperty(EXEC_MIME_TYPE))) {\n",
       "      return\n",
       "    }\n",
       "\n",
       "    var toinsert = output_area.element.find(\".\" + CLASS_NAME.split(' ')[0]);\n",
       "\n",
       "    if (output.metadata[EXEC_MIME_TYPE][\"id\"] !== undefined) {\n",
       "      toinsert[toinsert.length - 1].firstChild.textContent = output.data[JS_MIME_TYPE];\n",
       "      // store reference to embed id on output_area\n",
       "      output_area._bokeh_element_id = output.metadata[EXEC_MIME_TYPE][\"id\"];\n",
       "    }\n",
       "    if (output.metadata[EXEC_MIME_TYPE][\"server_id\"] !== undefined) {\n",
       "      var bk_div = document.createElement(\"div\");\n",
       "      bk_div.innerHTML = output.data[HTML_MIME_TYPE];\n",
       "      var script_attrs = bk_div.children[0].attributes;\n",
       "      for (var i = 0; i < script_attrs.length; i++) {\n",
       "        toinsert[toinsert.length - 1].firstChild.setAttribute(script_attrs[i].name, script_attrs[i].value);\n",
       "      }\n",
       "      // store reference to server id on output_area\n",
       "      output_area._bokeh_server_id = output.metadata[EXEC_MIME_TYPE][\"server_id\"];\n",
       "    }\n",
       "  }\n",
       "\n",
       "  function register_renderer(events, OutputArea) {\n",
       "\n",
       "    function append_mime(data, metadata, element) {\n",
       "      // create a DOM node to render to\n",
       "      var toinsert = this.create_output_subarea(\n",
       "        metadata,\n",
       "        CLASS_NAME,\n",
       "        EXEC_MIME_TYPE\n",
       "      );\n",
       "      this.keyboard_manager.register_events(toinsert);\n",
       "      // Render to node\n",
       "      var props = {data: data, metadata: metadata[EXEC_MIME_TYPE]};\n",
       "      render(props, toinsert[toinsert.length - 1]);\n",
       "      element.append(toinsert);\n",
       "      return toinsert\n",
       "    }\n",
       "\n",
       "    /* Handle when an output is cleared or removed */\n",
       "    events.on('clear_output.CodeCell', handleClearOutput);\n",
       "    events.on('delete.Cell', handleClearOutput);\n",
       "\n",
       "    /* Handle when a new output is added */\n",
       "    events.on('output_added.OutputArea', handleAddOutput);\n",
       "\n",
       "    /**\n",
       "     * Register the mime type and append_mime function with output_area\n",
       "     */\n",
       "    OutputArea.prototype.register_mime_type(EXEC_MIME_TYPE, append_mime, {\n",
       "      /* Is output safe? */\n",
       "      safe: true,\n",
       "      /* Index of renderer in `output_area.display_order` */\n",
       "      index: 0\n",
       "    });\n",
       "  }\n",
       "\n",
       "  // register the mime type if in Jupyter Notebook environment and previously unregistered\n",
       "  if (root.Jupyter !== undefined) {\n",
       "    var events = require('base/js/events');\n",
       "    var OutputArea = require('notebook/js/outputarea').OutputArea;\n",
       "\n",
       "    if (OutputArea.prototype.mime_types().indexOf(EXEC_MIME_TYPE) == -1) {\n",
       "      register_renderer(events, OutputArea);\n",
       "    }\n",
       "  }\n",
       "\n",
       "  \n",
       "  if (typeof (root._bokeh_timeout) === \"undefined\" || force === true) {\n",
       "    root._bokeh_timeout = Date.now() + 5000;\n",
       "    root._bokeh_failed_load = false;\n",
       "  }\n",
       "\n",
       "  var NB_LOAD_WARNING = {'data': {'text/html':\n",
       "     \"<div style='background-color: #fdd'>\\n\"+\n",
       "     \"<p>\\n\"+\n",
       "     \"BokehJS does not appear to have successfully loaded. If loading BokehJS from CDN, this \\n\"+\n",
       "     \"may be due to a slow or bad network connection. Possible fixes:\\n\"+\n",
       "     \"</p>\\n\"+\n",
       "     \"<ul>\\n\"+\n",
       "     \"<li>re-rerun `output_notebook()` to attempt to load from CDN again, or</li>\\n\"+\n",
       "     \"<li>use INLINE resources instead, as so:</li>\\n\"+\n",
       "     \"</ul>\\n\"+\n",
       "     \"<code>\\n\"+\n",
       "     \"from bokeh.resources import INLINE\\n\"+\n",
       "     \"output_notebook(resources=INLINE)\\n\"+\n",
       "     \"</code>\\n\"+\n",
       "     \"</div>\"}};\n",
       "\n",
       "  function display_loaded() {\n",
       "    var el = document.getElementById(\"1001\");\n",
       "    if (el != null) {\n",
       "      el.textContent = \"BokehJS is loading...\";\n",
       "    }\n",
       "    if (root.Bokeh !== undefined) {\n",
       "      if (el != null) {\n",
       "        el.textContent = \"BokehJS \" + root.Bokeh.version + \" successfully loaded.\";\n",
       "      }\n",
       "    } else if (Date.now() < root._bokeh_timeout) {\n",
       "      setTimeout(display_loaded, 100)\n",
       "    }\n",
       "  }\n",
       "\n",
       "\n",
       "  function run_callbacks() {\n",
       "    try {\n",
       "      root._bokeh_onload_callbacks.forEach(function(callback) {\n",
       "        if (callback != null)\n",
       "          callback();\n",
       "      });\n",
       "    } finally {\n",
       "      delete root._bokeh_onload_callbacks\n",
       "    }\n",
       "    console.debug(\"Bokeh: all callbacks have finished\");\n",
       "  }\n",
       "\n",
       "  function load_libs(css_urls, js_urls, callback) {\n",
       "    if (css_urls == null) css_urls = [];\n",
       "    if (js_urls == null) js_urls = [];\n",
       "\n",
       "    root._bokeh_onload_callbacks.push(callback);\n",
       "    if (root._bokeh_is_loading > 0) {\n",
       "      console.debug(\"Bokeh: BokehJS is being loaded, scheduling callback at\", now());\n",
       "      return null;\n",
       "    }\n",
       "    if (js_urls == null || js_urls.length === 0) {\n",
       "      run_callbacks();\n",
       "      return null;\n",
       "    }\n",
       "    console.debug(\"Bokeh: BokehJS not loaded, scheduling load and callback at\", now());\n",
       "    root._bokeh_is_loading = css_urls.length + js_urls.length;\n",
       "\n",
       "    function on_load() {\n",
       "      root._bokeh_is_loading--;\n",
       "      if (root._bokeh_is_loading === 0) {\n",
       "        console.debug(\"Bokeh: all BokehJS libraries/stylesheets loaded\");\n",
       "        run_callbacks()\n",
       "      }\n",
       "    }\n",
       "\n",
       "    function on_error() {\n",
       "      console.error(\"failed to load \" + url);\n",
       "    }\n",
       "\n",
       "    for (var i = 0; i < css_urls.length; i++) {\n",
       "      var url = css_urls[i];\n",
       "      const element = document.createElement(\"link\");\n",
       "      element.onload = on_load;\n",
       "      element.onerror = on_error;\n",
       "      element.rel = \"stylesheet\";\n",
       "      element.type = \"text/css\";\n",
       "      element.href = url;\n",
       "      console.debug(\"Bokeh: injecting link tag for BokehJS stylesheet: \", url);\n",
       "      document.body.appendChild(element);\n",
       "    }\n",
       "\n",
       "    for (var i = 0; i < js_urls.length; i++) {\n",
       "      var url = js_urls[i];\n",
       "      var element = document.createElement('script');\n",
       "      element.onload = on_load;\n",
       "      element.onerror = on_error;\n",
       "      element.async = false;\n",
       "      element.src = url;\n",
       "      console.debug(\"Bokeh: injecting script tag for BokehJS library: \", url);\n",
       "      document.head.appendChild(element);\n",
       "    }\n",
       "  };var element = document.getElementById(\"1001\");\n",
       "  if (element == null) {\n",
       "    console.error(\"Bokeh: ERROR: autoload.js configured with elementid '1001' but no matching script tag was found. \")\n",
       "    return false;\n",
       "  }\n",
       "\n",
       "  function inject_raw_css(css) {\n",
       "    const element = document.createElement(\"style\");\n",
       "    element.appendChild(document.createTextNode(css));\n",
       "    document.body.appendChild(element);\n",
       "  }\n",
       "\n",
       "  var js_urls = [\"https://cdn.pydata.org/bokeh/release/bokeh-1.3.4.min.js\", \"https://cdn.pydata.org/bokeh/release/bokeh-widgets-1.3.4.min.js\", \"https://cdn.pydata.org/bokeh/release/bokeh-tables-1.3.4.min.js\", \"https://cdn.pydata.org/bokeh/release/bokeh-gl-1.3.4.min.js\"];\n",
       "  var css_urls = [];\n",
       "\n",
       "  var inline_js = [\n",
       "    function(Bokeh) {\n",
       "      Bokeh.set_log_level(\"info\");\n",
       "    },\n",
       "    \n",
       "    function(Bokeh) {\n",
       "      \n",
       "    },\n",
       "    function(Bokeh) {} // ensure no trailing comma for IE\n",
       "  ];\n",
       "\n",
       "  function run_inline_js() {\n",
       "    \n",
       "    if ((root.Bokeh !== undefined) || (force === true)) {\n",
       "      for (var i = 0; i < inline_js.length; i++) {\n",
       "        inline_js[i].call(root, root.Bokeh);\n",
       "      }if (force === true) {\n",
       "        display_loaded();\n",
       "      }} else if (Date.now() < root._bokeh_timeout) {\n",
       "      setTimeout(run_inline_js, 100);\n",
       "    } else if (!root._bokeh_failed_load) {\n",
       "      console.log(\"Bokeh: BokehJS failed to load within specified timeout.\");\n",
       "      root._bokeh_failed_load = true;\n",
       "    } else if (force !== true) {\n",
       "      var cell = $(document.getElementById(\"1001\")).parents('.cell').data().cell;\n",
       "      cell.output_area.append_execute_result(NB_LOAD_WARNING)\n",
       "    }\n",
       "\n",
       "  }\n",
       "\n",
       "  if (root._bokeh_is_loading === 0) {\n",
       "    console.debug(\"Bokeh: BokehJS loaded, going straight to plotting\");\n",
       "    run_inline_js();\n",
       "  } else {\n",
       "    load_libs(css_urls, js_urls, function() {\n",
       "      console.debug(\"Bokeh: BokehJS plotting callback run at\", now());\n",
       "      run_inline_js();\n",
       "    });\n",
       "  }\n",
       "}(window));"
      ],
      "application/vnd.bokehjs_load.v0+json": "\n(function(root) {\n  function now() {\n    return new Date();\n  }\n\n  var force = true;\n\n  if (typeof root._bokeh_onload_callbacks === \"undefined\" || force === true) {\n    root._bokeh_onload_callbacks = [];\n    root._bokeh_is_loading = undefined;\n  }\n\n  \n\n  \n  if (typeof (root._bokeh_timeout) === \"undefined\" || force === true) {\n    root._bokeh_timeout = Date.now() + 5000;\n    root._bokeh_failed_load = false;\n  }\n\n  var NB_LOAD_WARNING = {'data': {'text/html':\n     \"<div style='background-color: #fdd'>\\n\"+\n     \"<p>\\n\"+\n     \"BokehJS does not appear to have successfully loaded. If loading BokehJS from CDN, this \\n\"+\n     \"may be due to a slow or bad network connection. Possible fixes:\\n\"+\n     \"</p>\\n\"+\n     \"<ul>\\n\"+\n     \"<li>re-rerun `output_notebook()` to attempt to load from CDN again, or</li>\\n\"+\n     \"<li>use INLINE resources instead, as so:</li>\\n\"+\n     \"</ul>\\n\"+\n     \"<code>\\n\"+\n     \"from bokeh.resources import INLINE\\n\"+\n     \"output_notebook(resources=INLINE)\\n\"+\n     \"</code>\\n\"+\n     \"</div>\"}};\n\n  function display_loaded() {\n    var el = document.getElementById(\"1001\");\n    if (el != null) {\n      el.textContent = \"BokehJS is loading...\";\n    }\n    if (root.Bokeh !== undefined) {\n      if (el != null) {\n        el.textContent = \"BokehJS \" + root.Bokeh.version + \" successfully loaded.\";\n      }\n    } else if (Date.now() < root._bokeh_timeout) {\n      setTimeout(display_loaded, 100)\n    }\n  }\n\n\n  function run_callbacks() {\n    try {\n      root._bokeh_onload_callbacks.forEach(function(callback) {\n        if (callback != null)\n          callback();\n      });\n    } finally {\n      delete root._bokeh_onload_callbacks\n    }\n    console.debug(\"Bokeh: all callbacks have finished\");\n  }\n\n  function load_libs(css_urls, js_urls, callback) {\n    if (css_urls == null) css_urls = [];\n    if (js_urls == null) js_urls = [];\n\n    root._bokeh_onload_callbacks.push(callback);\n    if (root._bokeh_is_loading > 0) {\n      console.debug(\"Bokeh: BokehJS is being loaded, scheduling callback at\", now());\n      return null;\n    }\n    if (js_urls == null || js_urls.length === 0) {\n      run_callbacks();\n      return null;\n    }\n    console.debug(\"Bokeh: BokehJS not loaded, scheduling load and callback at\", now());\n    root._bokeh_is_loading = css_urls.length + js_urls.length;\n\n    function on_load() {\n      root._bokeh_is_loading--;\n      if (root._bokeh_is_loading === 0) {\n        console.debug(\"Bokeh: all BokehJS libraries/stylesheets loaded\");\n        run_callbacks()\n      }\n    }\n\n    function on_error() {\n      console.error(\"failed to load \" + url);\n    }\n\n    for (var i = 0; i < css_urls.length; i++) {\n      var url = css_urls[i];\n      const element = document.createElement(\"link\");\n      element.onload = on_load;\n      element.onerror = on_error;\n      element.rel = \"stylesheet\";\n      element.type = \"text/css\";\n      element.href = url;\n      console.debug(\"Bokeh: injecting link tag for BokehJS stylesheet: \", url);\n      document.body.appendChild(element);\n    }\n\n    for (var i = 0; i < js_urls.length; i++) {\n      var url = js_urls[i];\n      var element = document.createElement('script');\n      element.onload = on_load;\n      element.onerror = on_error;\n      element.async = false;\n      element.src = url;\n      console.debug(\"Bokeh: injecting script tag for BokehJS library: \", url);\n      document.head.appendChild(element);\n    }\n  };var element = document.getElementById(\"1001\");\n  if (element == null) {\n    console.error(\"Bokeh: ERROR: autoload.js configured with elementid '1001' but no matching script tag was found. \")\n    return false;\n  }\n\n  function inject_raw_css(css) {\n    const element = document.createElement(\"style\");\n    element.appendChild(document.createTextNode(css));\n    document.body.appendChild(element);\n  }\n\n  var js_urls = [\"https://cdn.pydata.org/bokeh/release/bokeh-1.3.4.min.js\", \"https://cdn.pydata.org/bokeh/release/bokeh-widgets-1.3.4.min.js\", \"https://cdn.pydata.org/bokeh/release/bokeh-tables-1.3.4.min.js\", \"https://cdn.pydata.org/bokeh/release/bokeh-gl-1.3.4.min.js\"];\n  var css_urls = [];\n\n  var inline_js = [\n    function(Bokeh) {\n      Bokeh.set_log_level(\"info\");\n    },\n    \n    function(Bokeh) {\n      \n    },\n    function(Bokeh) {} // ensure no trailing comma for IE\n  ];\n\n  function run_inline_js() {\n    \n    if ((root.Bokeh !== undefined) || (force === true)) {\n      for (var i = 0; i < inline_js.length; i++) {\n        inline_js[i].call(root, root.Bokeh);\n      }if (force === true) {\n        display_loaded();\n      }} else if (Date.now() < root._bokeh_timeout) {\n      setTimeout(run_inline_js, 100);\n    } else if (!root._bokeh_failed_load) {\n      console.log(\"Bokeh: BokehJS failed to load within specified timeout.\");\n      root._bokeh_failed_load = true;\n    } else if (force !== true) {\n      var cell = $(document.getElementById(\"1001\")).parents('.cell').data().cell;\n      cell.output_area.append_execute_result(NB_LOAD_WARNING)\n    }\n\n  }\n\n  if (root._bokeh_is_loading === 0) {\n    console.debug(\"Bokeh: BokehJS loaded, going straight to plotting\");\n    run_inline_js();\n  } else {\n    load_libs(css_urls, js_urls, function() {\n      console.debug(\"Bokeh: BokehJS plotting callback run at\", now());\n      run_inline_js();\n    });\n  }\n}(window));"
     },
     "metadata": {},
     "output_type": "display_data"
    },
    {
     "data": {
      "text/html": [
       "\n",
       "\n",
       "\n",
       "\n",
       "\n",
       "\n",
       "  <div class=\"bk-root\" id=\"bd25d95b-806e-4e7c-88ab-1828497210fe\" data-root-id=\"1002\"></div>\n"
      ]
     },
     "metadata": {},
     "output_type": "display_data"
    },
    {
     "data": {
      "application/javascript": [
       "(function(root) {\n",
       "  function embed_document(root) {\n",
       "    \n",
       "  var docs_json = {\"b3c43f75-c401-48b1-b783-420265688474\":{\"roots\":{\"references\":[{\"attributes\":{\"below\":[{\"id\":\"1013\",\"type\":\"LinearAxis\"}],\"center\":[{\"id\":\"1017\",\"type\":\"Grid\"},{\"id\":\"1022\",\"type\":\"Grid\"}],\"left\":[{\"id\":\"1018\",\"type\":\"LinearAxis\"}],\"renderers\":[{\"id\":\"1039\",\"type\":\"GlyphRenderer\"},{\"id\":\"1044\",\"type\":\"GlyphRenderer\"}],\"title\":{\"id\":\"1003\",\"type\":\"Title\"},\"toolbar\":{\"id\":\"1029\",\"type\":\"Toolbar\"},\"x_range\":{\"id\":\"1005\",\"type\":\"DataRange1d\"},\"x_scale\":{\"id\":\"1009\",\"type\":\"LinearScale\"},\"y_range\":{\"id\":\"1007\",\"type\":\"DataRange1d\"},\"y_scale\":{\"id\":\"1011\",\"type\":\"LinearScale\"}},\"id\":\"1002\",\"subtype\":\"Figure\",\"type\":\"Plot\"},{\"attributes\":{\"dimension\":1,\"ticker\":{\"id\":\"1019\",\"type\":\"BasicTicker\"}},\"id\":\"1022\",\"type\":\"Grid\"},{\"attributes\":{},\"id\":\"1053\",\"type\":\"UnionRenderers\"},{\"attributes\":{\"fill_alpha\":{\"value\":0.1},\"fill_color\":{\"value\":\"#1f77b4\"},\"line_alpha\":{\"value\":0.1},\"line_color\":{\"value\":\"#1f77b4\"},\"size\":{\"units\":\"screen\",\"value\":12},\"x\":{\"field\":\"x\"},\"y\":{\"field\":\"y\"}},\"id\":\"1043\",\"type\":\"Circle\"},{\"attributes\":{},\"id\":\"1054\",\"type\":\"Selection\"},{\"attributes\":{},\"id\":\"1055\",\"type\":\"UnionRenderers\"},{\"attributes\":{\"fill_color\":{\"value\":\"red\"},\"line_color\":{\"value\":\"red\"},\"size\":{\"units\":\"screen\",\"value\":12},\"x\":{\"field\":\"x\"},\"y\":{\"field\":\"y\"}},\"id\":\"1042\",\"type\":\"Circle\"},{\"attributes\":{},\"id\":\"1023\",\"type\":\"PanTool\"},{\"attributes\":{\"callback\":null,\"data\":{\"x\":[1,3,4,5,8],\"y\":[8,7,3,1,10]},\"selected\":{\"id\":\"1052\",\"type\":\"Selection\"},\"selection_policy\":{\"id\":\"1053\",\"type\":\"UnionRenderers\"}},\"id\":\"1036\",\"type\":\"ColumnDataSource\"},{\"attributes\":{},\"id\":\"1024\",\"type\":\"WheelZoomTool\"},{\"attributes\":{\"data_source\":{\"id\":\"1036\",\"type\":\"ColumnDataSource\"},\"glyph\":{\"id\":\"1037\",\"type\":\"Square\"},\"hover_glyph\":null,\"muted_glyph\":null,\"nonselection_glyph\":{\"id\":\"1038\",\"type\":\"Square\"},\"selection_glyph\":null,\"view\":{\"id\":\"1040\",\"type\":\"CDSView\"}},\"id\":\"1039\",\"type\":\"GlyphRenderer\"},{\"attributes\":{\"overlay\":{\"id\":\"1051\",\"type\":\"BoxAnnotation\"}},\"id\":\"1025\",\"type\":\"BoxZoomTool\"},{\"attributes\":{\"fill_alpha\":{\"value\":0.1},\"fill_color\":{\"value\":\"#1f77b4\"},\"line_alpha\":{\"value\":0.1},\"line_color\":{\"value\":\"#1f77b4\"},\"size\":{\"units\":\"screen\",\"value\":12},\"x\":{\"field\":\"x\"},\"y\":{\"field\":\"y\"}},\"id\":\"1038\",\"type\":\"Square\"},{\"attributes\":{},\"id\":\"1026\",\"type\":\"SaveTool\"},{\"attributes\":{\"fill_alpha\":{\"value\":0.6},\"fill_color\":{\"value\":\"navy\"},\"line_alpha\":{\"value\":0.6},\"line_color\":{\"value\":\"navy\"},\"size\":{\"units\":\"screen\",\"value\":12},\"x\":{\"field\":\"x\"},\"y\":{\"field\":\"y\"}},\"id\":\"1037\",\"type\":\"Square\"},{\"attributes\":{\"callback\":null,\"data\":{\"x\":[9,12,4,3,15],\"y\":[8,4,11,6,10]},\"selected\":{\"id\":\"1054\",\"type\":\"Selection\"},\"selection_policy\":{\"id\":\"1055\",\"type\":\"UnionRenderers\"}},\"id\":\"1041\",\"type\":\"ColumnDataSource\"},{\"attributes\":{\"callback\":null},\"id\":\"1007\",\"type\":\"DataRange1d\"},{\"attributes\":{},\"id\":\"1027\",\"type\":\"ResetTool\"},{\"attributes\":{\"axis_label\":\"X\",\"formatter\":{\"id\":\"1047\",\"type\":\"BasicTickFormatter\"},\"ticker\":{\"id\":\"1014\",\"type\":\"BasicTicker\"}},\"id\":\"1013\",\"type\":\"LinearAxis\"},{\"attributes\":{},\"id\":\"1028\",\"type\":\"HelpTool\"},{\"attributes\":{\"bottom_units\":\"screen\",\"fill_alpha\":{\"value\":0.5},\"fill_color\":{\"value\":\"lightgrey\"},\"left_units\":\"screen\",\"level\":\"overlay\",\"line_alpha\":{\"value\":1.0},\"line_color\":{\"value\":\"black\"},\"line_dash\":[4,4],\"line_width\":{\"value\":2},\"render_mode\":\"css\",\"right_units\":\"screen\",\"top_units\":\"screen\"},\"id\":\"1051\",\"type\":\"BoxAnnotation\"},{\"attributes\":{\"active_drag\":\"auto\",\"active_inspect\":\"auto\",\"active_multi\":null,\"active_scroll\":\"auto\",\"active_tap\":\"auto\",\"tools\":[{\"id\":\"1023\",\"type\":\"PanTool\"},{\"id\":\"1024\",\"type\":\"WheelZoomTool\"},{\"id\":\"1025\",\"type\":\"BoxZoomTool\"},{\"id\":\"1026\",\"type\":\"SaveTool\"},{\"id\":\"1027\",\"type\":\"ResetTool\"},{\"id\":\"1028\",\"type\":\"HelpTool\"}]},\"id\":\"1029\",\"type\":\"Toolbar\"},{\"attributes\":{\"text\":\"Example Glyphs\"},\"id\":\"1003\",\"type\":\"Title\"},{\"attributes\":{\"callback\":null},\"id\":\"1005\",\"type\":\"DataRange1d\"},{\"attributes\":{},\"id\":\"1011\",\"type\":\"LinearScale\"},{\"attributes\":{\"data_source\":{\"id\":\"1041\",\"type\":\"ColumnDataSource\"},\"glyph\":{\"id\":\"1042\",\"type\":\"Circle\"},\"hover_glyph\":null,\"muted_glyph\":null,\"nonselection_glyph\":{\"id\":\"1043\",\"type\":\"Circle\"},\"selection_glyph\":null,\"view\":{\"id\":\"1045\",\"type\":\"CDSView\"}},\"id\":\"1044\",\"type\":\"GlyphRenderer\"},{\"attributes\":{},\"id\":\"1009\",\"type\":\"LinearScale\"},{\"attributes\":{\"source\":{\"id\":\"1041\",\"type\":\"ColumnDataSource\"}},\"id\":\"1045\",\"type\":\"CDSView\"},{\"attributes\":{},\"id\":\"1047\",\"type\":\"BasicTickFormatter\"},{\"attributes\":{\"source\":{\"id\":\"1036\",\"type\":\"ColumnDataSource\"}},\"id\":\"1040\",\"type\":\"CDSView\"},{\"attributes\":{},\"id\":\"1014\",\"type\":\"BasicTicker\"},{\"attributes\":{},\"id\":\"1049\",\"type\":\"BasicTickFormatter\"},{\"attributes\":{\"ticker\":{\"id\":\"1014\",\"type\":\"BasicTicker\"}},\"id\":\"1017\",\"type\":\"Grid\"},{\"attributes\":{\"axis_label\":\"Y\",\"formatter\":{\"id\":\"1049\",\"type\":\"BasicTickFormatter\"},\"ticker\":{\"id\":\"1019\",\"type\":\"BasicTicker\"}},\"id\":\"1018\",\"type\":\"LinearAxis\"},{\"attributes\":{},\"id\":\"1052\",\"type\":\"Selection\"},{\"attributes\":{},\"id\":\"1019\",\"type\":\"BasicTicker\"}],\"root_ids\":[\"1002\"]},\"title\":\"Bokeh Application\",\"version\":\"1.3.4\"}};\n",
       "  var render_items = [{\"docid\":\"b3c43f75-c401-48b1-b783-420265688474\",\"roots\":{\"1002\":\"bd25d95b-806e-4e7c-88ab-1828497210fe\"}}];\n",
       "  root.Bokeh.embed.embed_items_notebook(docs_json, render_items);\n",
       "\n",
       "  }\n",
       "  if (root.Bokeh !== undefined) {\n",
       "    embed_document(root);\n",
       "  } else {\n",
       "    var attempts = 0;\n",
       "    var timer = setInterval(function(root) {\n",
       "      if (root.Bokeh !== undefined) {\n",
       "        embed_document(root);\n",
       "        clearInterval(timer);\n",
       "      }\n",
       "      attempts++;\n",
       "      if (attempts > 100) {\n",
       "        console.log(\"Bokeh: ERROR: Unable to run BokehJS code because BokehJS library is missing\");\n",
       "        clearInterval(timer);\n",
       "      }\n",
       "    }, 10, root)\n",
       "  }\n",
       "})(window);"
      ],
      "application/vnd.bokehjs_exec.v0+json": ""
     },
     "metadata": {
      "application/vnd.bokehjs_exec.v0+json": {
       "id": "1002"
      }
     },
     "output_type": "display_data"
    }
   ],
   "source": [
    "output_notebook()\n",
    "\n",
    "# Create a blank figure with labels\n",
    "p = figure(plot_width = 600, plot_height = 600, \n",
    "           title = 'Example Glyphs',\n",
    "           x_axis_label = 'X', y_axis_label = 'Y')\n",
    "\n",
    "# Example data\n",
    "squares_x = [1, 3, 4, 5, 8]\n",
    "squares_y = [8, 7, 3, 1, 10]\n",
    "circles_x = [9, 12, 4, 3, 15]\n",
    "circles_y = [8, 4, 11, 6, 10]\n",
    "\n",
    "# Add squares glyph\n",
    "p.square(squares_x, squares_y, size = 12, color = 'navy', alpha = 0.6)\n",
    "# Add circle glyph\n",
    "p.circle(circles_x, circles_y, size = 12, color = 'red')\n",
    "\n",
    "# Set to output the plot in the notebook\n",
    "# Show the plot\n",
    "show(p)"
   ]
  },
  {
   "cell_type": "markdown",
   "metadata": {},
   "source": [
    "The second example is the generation of line plot of mathemtical functions. Note that the horizontal axis is expressed in terms of the natural logarithm value. Also, the icons in the toolbar are customized as well."
   ]
  },
  {
   "cell_type": "code",
   "execution_count": 6,
   "metadata": {},
   "outputs": [
    {
     "data": {
      "text/html": [
       "\n",
       "\n",
       "\n",
       "\n",
       "\n",
       "\n",
       "  <div class=\"bk-root\" id=\"3cc7ce6f-1976-4bc9-acb5-58284b7d0882\" data-root-id=\"1116\"></div>\n"
      ]
     },
     "metadata": {},
     "output_type": "display_data"
    },
    {
     "data": {
      "application/javascript": [
       "(function(root) {\n",
       "  function embed_document(root) {\n",
       "    \n",
       "  var docs_json = {\"37da3a05-9acd-47be-b1dd-04bfd9b8883d\":{\"roots\":{\"references\":[{\"attributes\":{\"below\":[{\"id\":\"1127\",\"type\":\"LinearAxis\"}],\"center\":[{\"id\":\"1131\",\"type\":\"Grid\"},{\"id\":\"1136\",\"type\":\"Grid\"},{\"id\":\"1157\",\"type\":\"Legend\"}],\"left\":[{\"id\":\"1132\",\"type\":\"LogAxis\"}],\"renderers\":[{\"id\":\"1149\",\"type\":\"GlyphRenderer\"},{\"id\":\"1162\",\"type\":\"GlyphRenderer\"},{\"id\":\"1175\",\"type\":\"GlyphRenderer\"},{\"id\":\"1191\",\"type\":\"GlyphRenderer\"},{\"id\":\"1209\",\"type\":\"GlyphRenderer\"},{\"id\":\"1228\",\"type\":\"GlyphRenderer\"}],\"title\":{\"id\":\"1117\",\"type\":\"Title\"},\"toolbar\":{\"id\":\"1141\",\"type\":\"Toolbar\"},\"x_range\":{\"id\":\"1119\",\"type\":\"DataRange1d\"},\"x_scale\":{\"id\":\"1123\",\"type\":\"LinearScale\"},\"y_range\":{\"id\":\"1121\",\"type\":\"Range1d\"},\"y_scale\":{\"id\":\"1125\",\"type\":\"LogScale\"}},\"id\":\"1116\",\"subtype\":\"Figure\",\"type\":\"Plot\"},{\"attributes\":{\"source\":{\"id\":\"1188\",\"type\":\"ColumnDataSource\"}},\"id\":\"1192\",\"type\":\"CDSView\"},{\"attributes\":{\"callback\":null,\"data\":{\"x\":[0.1,0.5,1.0,1.5,2.0,2.5,3.0],\"y\":[0.010000000000000002,0.25,1.0,2.25,4.0,6.25,9.0]},\"selected\":{\"id\":\"1203\",\"type\":\"Selection\"},\"selection_policy\":{\"id\":\"1204\",\"type\":\"UnionRenderers\"}},\"id\":\"1172\",\"type\":\"ColumnDataSource\"},{\"attributes\":{},\"id\":\"1123\",\"type\":\"LinearScale\"},{\"attributes\":{\"fill_color\":{\"value\":\"white\"},\"line_color\":{\"value\":\"#1f77b4\"},\"size\":{\"units\":\"screen\",\"value\":8},\"x\":{\"field\":\"x\"},\"y\":{\"field\":\"y\"}},\"id\":\"1160\",\"type\":\"Circle\"},{\"attributes\":{},\"id\":\"1203\",\"type\":\"Selection\"},{\"attributes\":{},\"id\":\"1273\",\"type\":\"Selection\"},{\"attributes\":{},\"id\":\"1128\",\"type\":\"BasicTicker\"},{\"attributes\":{\"fill_alpha\":{\"value\":0.1},\"fill_color\":{\"value\":\"#1f77b4\"},\"line_alpha\":{\"value\":0.1},\"line_color\":{\"value\":\"#1f77b4\"},\"size\":{\"units\":\"screen\",\"value\":8},\"x\":{\"field\":\"x\"},\"y\":{\"field\":\"y\"}},\"id\":\"1161\",\"type\":\"Circle\"},{\"attributes\":{\"dimension\":1,\"ticker\":{\"id\":\"1133\",\"type\":\"LogTicker\"}},\"id\":\"1136\",\"type\":\"Grid\"},{\"attributes\":{},\"id\":\"1204\",\"type\":\"UnionRenderers\"},{\"attributes\":{},\"id\":\"1274\",\"type\":\"UnionRenderers\"},{\"attributes\":{\"data_source\":{\"id\":\"1159\",\"type\":\"ColumnDataSource\"},\"glyph\":{\"id\":\"1160\",\"type\":\"Circle\"},\"hover_glyph\":null,\"muted_glyph\":null,\"nonselection_glyph\":{\"id\":\"1161\",\"type\":\"Circle\"},\"selection_glyph\":null,\"view\":{\"id\":\"1163\",\"type\":\"CDSView\"}},\"id\":\"1162\",\"type\":\"GlyphRenderer\"},{\"attributes\":{\"label\":{\"value\":\"y=10^x\"},\"renderers\":[{\"id\":\"1191\",\"type\":\"GlyphRenderer\"},{\"id\":\"1209\",\"type\":\"GlyphRenderer\"}]},\"id\":\"1205\",\"type\":\"LegendItem\"},{\"attributes\":{\"source\":{\"id\":\"1159\",\"type\":\"ColumnDataSource\"}},\"id\":\"1163\",\"type\":\"CDSView\"},{\"attributes\":{\"axis_label\":\"sections\",\"formatter\":{\"id\":\"1152\",\"type\":\"BasicTickFormatter\"},\"ticker\":{\"id\":\"1128\",\"type\":\"BasicTicker\"}},\"id\":\"1127\",\"type\":\"LinearAxis\"},{\"attributes\":{\"callback\":null,\"data\":{\"x\":[0.1,0.5,1.0,1.5,2.0,2.5,3.0],\"y\":[1.023292992280754,1.7782794100389228,10.0,177.82794100389228,10000.0,1778279.410038923,1000000000.0]},\"selected\":{\"id\":\"1273\",\"type\":\"Selection\"},\"selection_policy\":{\"id\":\"1274\",\"type\":\"UnionRenderers\"}},\"id\":\"1225\",\"type\":\"ColumnDataSource\"},{\"attributes\":{\"callback\":null,\"end\":100000000000,\"start\":0.001},\"id\":\"1121\",\"type\":\"Range1d\"},{\"attributes\":{\"fill_color\":{\"value\":\"red\"},\"line_color\":{\"value\":\"red\"},\"size\":{\"units\":\"screen\",\"value\":6},\"x\":{\"field\":\"x\"},\"y\":{\"field\":\"y\"}},\"id\":\"1207\",\"type\":\"Circle\"},{\"attributes\":{\"line_color\":\"#1f77b4\",\"x\":{\"field\":\"x\"},\"y\":{\"field\":\"y\"}},\"id\":\"1147\",\"type\":\"Line\"},{\"attributes\":{},\"id\":\"1171\",\"type\":\"UnionRenderers\"},{\"attributes\":{\"num_minor_ticks\":10},\"id\":\"1133\",\"type\":\"LogTicker\"},{\"attributes\":{\"fill_alpha\":{\"value\":0.1},\"fill_color\":{\"value\":\"#1f77b4\"},\"line_alpha\":{\"value\":0.1},\"line_color\":{\"value\":\"#1f77b4\"},\"size\":{\"units\":\"screen\",\"value\":6},\"x\":{\"field\":\"x\"},\"y\":{\"field\":\"y\"}},\"id\":\"1208\",\"type\":\"Circle\"},{\"attributes\":{\"callback\":null,\"data\":{\"x\":[0.1,0.5,1.0,1.5,2.0,2.5,3.0],\"y\":[1.2589254117941673,3.1622776601683795,10.0,31.622776601683793,100.0,316.22776601683796,1000.0]},\"selected\":{\"id\":\"1223\",\"type\":\"Selection\"},\"selection_policy\":{\"id\":\"1224\",\"type\":\"UnionRenderers\"}},\"id\":\"1188\",\"type\":\"ColumnDataSource\"},{\"attributes\":{\"data_source\":{\"id\":\"1206\",\"type\":\"ColumnDataSource\"},\"glyph\":{\"id\":\"1207\",\"type\":\"Circle\"},\"hover_glyph\":null,\"muted_glyph\":null,\"nonselection_glyph\":{\"id\":\"1208\",\"type\":\"Circle\"},\"selection_glyph\":null,\"view\":{\"id\":\"1210\",\"type\":\"CDSView\"}},\"id\":\"1209\",\"type\":\"GlyphRenderer\"},{\"attributes\":{\"ticker\":null},\"id\":\"1154\",\"type\":\"LogTickFormatter\"},{\"attributes\":{\"line_color\":\"#1f77b4\",\"line_width\":3,\"x\":{\"field\":\"x\"},\"y\":{\"field\":\"y\"}},\"id\":\"1173\",\"type\":\"Line\"},{\"attributes\":{\"data_source\":{\"id\":\"1146\",\"type\":\"ColumnDataSource\"},\"glyph\":{\"id\":\"1147\",\"type\":\"Line\"},\"hover_glyph\":null,\"muted_glyph\":null,\"nonselection_glyph\":{\"id\":\"1148\",\"type\":\"Line\"},\"selection_glyph\":null,\"view\":{\"id\":\"1150\",\"type\":\"CDSView\"}},\"id\":\"1149\",\"type\":\"GlyphRenderer\"},{\"attributes\":{\"source\":{\"id\":\"1206\",\"type\":\"ColumnDataSource\"}},\"id\":\"1210\",\"type\":\"CDSView\"},{\"attributes\":{\"axis_label\":\"particles\",\"formatter\":{\"id\":\"1154\",\"type\":\"LogTickFormatter\"},\"ticker\":{\"id\":\"1133\",\"type\":\"LogTicker\"}},\"id\":\"1132\",\"type\":\"LogAxis\"},{\"attributes\":{\"line_alpha\":0.1,\"line_color\":\"#1f77b4\",\"line_width\":3,\"x\":{\"field\":\"x\"},\"y\":{\"field\":\"y\"}},\"id\":\"1174\",\"type\":\"Line\"},{\"attributes\":{\"line_alpha\":0.1,\"line_color\":\"#1f77b4\",\"x\":{\"field\":\"x\"},\"y\":{\"field\":\"y\"}},\"id\":\"1148\",\"type\":\"Line\"},{\"attributes\":{},\"id\":\"1223\",\"type\":\"Selection\"},{\"attributes\":{\"data_source\":{\"id\":\"1172\",\"type\":\"ColumnDataSource\"},\"glyph\":{\"id\":\"1173\",\"type\":\"Line\"},\"hover_glyph\":null,\"muted_glyph\":null,\"nonselection_glyph\":{\"id\":\"1174\",\"type\":\"Line\"},\"selection_glyph\":null,\"view\":{\"id\":\"1176\",\"type\":\"CDSView\"}},\"id\":\"1175\",\"type\":\"GlyphRenderer\"},{\"attributes\":{},\"id\":\"1170\",\"type\":\"Selection\"},{\"attributes\":{},\"id\":\"1224\",\"type\":\"UnionRenderers\"},{\"attributes\":{\"label\":{\"value\":\"y=x\"},\"renderers\":[{\"id\":\"1149\",\"type\":\"GlyphRenderer\"},{\"id\":\"1162\",\"type\":\"GlyphRenderer\"}]},\"id\":\"1158\",\"type\":\"LegendItem\"},{\"attributes\":{},\"id\":\"1137\",\"type\":\"PanTool\"},{\"attributes\":{\"source\":{\"id\":\"1172\",\"type\":\"ColumnDataSource\"}},\"id\":\"1176\",\"type\":\"CDSView\"},{\"attributes\":{\"overlay\":{\"id\":\"1156\",\"type\":\"BoxAnnotation\"}},\"id\":\"1138\",\"type\":\"BoxZoomTool\"},{\"attributes\":{\"ticker\":{\"id\":\"1128\",\"type\":\"BasicTicker\"}},\"id\":\"1131\",\"type\":\"Grid\"},{\"attributes\":{},\"id\":\"1185\",\"type\":\"Selection\"},{\"attributes\":{\"callback\":null,\"data\":{\"x\":[0.1,0.5,1.0,1.5,2.0,2.5,3.0],\"y\":[0.1,0.5,1.0,1.5,2.0,2.5,3.0]},\"selected\":{\"id\":\"1185\",\"type\":\"Selection\"},\"selection_policy\":{\"id\":\"1186\",\"type\":\"UnionRenderers\"}},\"id\":\"1159\",\"type\":\"ColumnDataSource\"},{\"attributes\":{\"line_color\":\"orange\",\"line_dash\":[4,4],\"x\":{\"field\":\"x\"},\"y\":{\"field\":\"y\"}},\"id\":\"1226\",\"type\":\"Line\"},{\"attributes\":{},\"id\":\"1139\",\"type\":\"ResetTool\"},{\"attributes\":{\"callback\":null,\"data\":{\"x\":[0.1,0.5,1.0,1.5,2.0,2.5,3.0],\"y\":[0.1,0.5,1.0,1.5,2.0,2.5,3.0]},\"selected\":{\"id\":\"1170\",\"type\":\"Selection\"},\"selection_policy\":{\"id\":\"1171\",\"type\":\"UnionRenderers\"}},\"id\":\"1146\",\"type\":\"ColumnDataSource\"},{\"attributes\":{},\"id\":\"1186\",\"type\":\"UnionRenderers\"},{\"attributes\":{\"line_alpha\":0.1,\"line_color\":\"#1f77b4\",\"line_dash\":[4,4],\"x\":{\"field\":\"x\"},\"y\":{\"field\":\"y\"}},\"id\":\"1227\",\"type\":\"Line\"},{\"attributes\":{},\"id\":\"1140\",\"type\":\"SaveTool\"},{\"attributes\":{\"items\":[{\"id\":\"1158\",\"type\":\"LegendItem\"},{\"id\":\"1187\",\"type\":\"LegendItem\"},{\"id\":\"1205\",\"type\":\"LegendItem\"},{\"id\":\"1246\",\"type\":\"LegendItem\"}]},\"id\":\"1157\",\"type\":\"Legend\"},{\"attributes\":{\"label\":{\"value\":\"y=x^2\"},\"renderers\":[{\"id\":\"1175\",\"type\":\"GlyphRenderer\"}]},\"id\":\"1187\",\"type\":\"LegendItem\"},{\"attributes\":{\"data_source\":{\"id\":\"1225\",\"type\":\"ColumnDataSource\"},\"glyph\":{\"id\":\"1226\",\"type\":\"Line\"},\"hover_glyph\":null,\"muted_glyph\":null,\"nonselection_glyph\":{\"id\":\"1227\",\"type\":\"Line\"},\"selection_glyph\":null,\"view\":{\"id\":\"1229\",\"type\":\"CDSView\"}},\"id\":\"1228\",\"type\":\"GlyphRenderer\"},{\"attributes\":{\"callback\":null},\"id\":\"1119\",\"type\":\"DataRange1d\"},{\"attributes\":{\"bottom_units\":\"screen\",\"fill_alpha\":{\"value\":0.5},\"fill_color\":{\"value\":\"lightgrey\"},\"left_units\":\"screen\",\"level\":\"overlay\",\"line_alpha\":{\"value\":1.0},\"line_color\":{\"value\":\"black\"},\"line_dash\":[4,4],\"line_width\":{\"value\":2},\"render_mode\":\"css\",\"right_units\":\"screen\",\"top_units\":\"screen\"},\"id\":\"1156\",\"type\":\"BoxAnnotation\"},{\"attributes\":{\"text\":\"log axis example\"},\"id\":\"1117\",\"type\":\"Title\"},{\"attributes\":{\"callback\":null,\"data\":{\"x\":[0.1,0.5,1.0,1.5,2.0,2.5,3.0],\"y\":[1.2589254117941673,3.1622776601683795,10.0,31.622776601683793,100.0,316.22776601683796,1000.0]},\"selected\":{\"id\":\"1244\",\"type\":\"Selection\"},\"selection_policy\":{\"id\":\"1245\",\"type\":\"UnionRenderers\"}},\"id\":\"1206\",\"type\":\"ColumnDataSource\"},{\"attributes\":{\"source\":{\"id\":\"1225\",\"type\":\"ColumnDataSource\"}},\"id\":\"1229\",\"type\":\"CDSView\"},{\"attributes\":{\"line_color\":\"red\",\"x\":{\"field\":\"x\"},\"y\":{\"field\":\"y\"}},\"id\":\"1189\",\"type\":\"Line\"},{\"attributes\":{\"source\":{\"id\":\"1146\",\"type\":\"ColumnDataSource\"}},\"id\":\"1150\",\"type\":\"CDSView\"},{\"attributes\":{},\"id\":\"1244\",\"type\":\"Selection\"},{\"attributes\":{},\"id\":\"1125\",\"type\":\"LogScale\"},{\"attributes\":{\"line_alpha\":0.1,\"line_color\":\"#1f77b4\",\"x\":{\"field\":\"x\"},\"y\":{\"field\":\"y\"}},\"id\":\"1190\",\"type\":\"Line\"},{\"attributes\":{},\"id\":\"1152\",\"type\":\"BasicTickFormatter\"},{\"attributes\":{},\"id\":\"1245\",\"type\":\"UnionRenderers\"},{\"attributes\":{\"active_drag\":\"auto\",\"active_inspect\":\"auto\",\"active_multi\":null,\"active_scroll\":\"auto\",\"active_tap\":\"auto\",\"tools\":[{\"id\":\"1137\",\"type\":\"PanTool\"},{\"id\":\"1138\",\"type\":\"BoxZoomTool\"},{\"id\":\"1139\",\"type\":\"ResetTool\"},{\"id\":\"1140\",\"type\":\"SaveTool\"}]},\"id\":\"1141\",\"type\":\"Toolbar\"},{\"attributes\":{\"data_source\":{\"id\":\"1188\",\"type\":\"ColumnDataSource\"},\"glyph\":{\"id\":\"1189\",\"type\":\"Line\"},\"hover_glyph\":null,\"muted_glyph\":null,\"nonselection_glyph\":{\"id\":\"1190\",\"type\":\"Line\"},\"selection_glyph\":null,\"view\":{\"id\":\"1192\",\"type\":\"CDSView\"}},\"id\":\"1191\",\"type\":\"GlyphRenderer\"},{\"attributes\":{\"label\":{\"value\":\"y=10^x^2\"},\"renderers\":[{\"id\":\"1228\",\"type\":\"GlyphRenderer\"}]},\"id\":\"1246\",\"type\":\"LegendItem\"}],\"root_ids\":[\"1116\"]},\"title\":\"Bokeh Application\",\"version\":\"1.3.4\"}};\n",
       "  var render_items = [{\"docid\":\"37da3a05-9acd-47be-b1dd-04bfd9b8883d\",\"roots\":{\"1116\":\"3cc7ce6f-1976-4bc9-acb5-58284b7d0882\"}}];\n",
       "  root.Bokeh.embed.embed_items_notebook(docs_json, render_items);\n",
       "\n",
       "  }\n",
       "  if (root.Bokeh !== undefined) {\n",
       "    embed_document(root);\n",
       "  } else {\n",
       "    var attempts = 0;\n",
       "    var timer = setInterval(function(root) {\n",
       "      if (root.Bokeh !== undefined) {\n",
       "        embed_document(root);\n",
       "        clearInterval(timer);\n",
       "      }\n",
       "      attempts++;\n",
       "      if (attempts > 100) {\n",
       "        console.log(\"Bokeh: ERROR: Unable to run BokehJS code because BokehJS library is missing\");\n",
       "        clearInterval(timer);\n",
       "      }\n",
       "    }, 10, root)\n",
       "  }\n",
       "})(window);"
      ],
      "application/vnd.bokehjs_exec.v0+json": ""
     },
     "metadata": {
      "application/vnd.bokehjs_exec.v0+json": {
       "id": "1116"
      }
     },
     "output_type": "display_data"
    }
   ],
   "source": [
    "# prepare some data\n",
    "x = [0.1, 0.5, 1.0, 1.5, 2.0, 2.5, 3.0]\n",
    "y0 = [i**2 for i in x]\n",
    "y1 = [10**i for i in x]\n",
    "y2 = [10**(i**2) for i in x]\n",
    "\n",
    "# output to static HTML file\n",
    "# output_file(\"log_lines.html\")\n",
    "\n",
    "# create a new plot\n",
    "p = figure(\n",
    "   tools = \"pan,box_zoom,reset,save\",\n",
    "   y_axis_type = \"log\", y_range = [0.001, 10**11], title = \"log axis example\",\n",
    "   x_axis_label = 'sections', y_axis_label='particles'\n",
    ")\n",
    "\n",
    "# add some renderers\n",
    "p.line(x, x, legend=\"y=x\")\n",
    "p.circle(x, x, legend=\"y=x\", fill_color=\"white\", size=8)\n",
    "p.line(x, y0, legend=\"y=x^2\", line_width=3)\n",
    "p.line(x, y1, legend=\"y=10^x\", line_color=\"red\")\n",
    "p.circle(x, y1, legend=\"y=10^x\", fill_color=\"red\", line_color=\"red\", size=6)\n",
    "p.line(x, y2, legend=\"y=10^x^2\", line_color=\"orange\", line_dash=\"4 4\")\n",
    "\n",
    "# show the results\n",
    "show(p)"
   ]
  },
  {
   "cell_type": "markdown",
   "metadata": {},
   "source": [
    "### Construct time series plot of stock price data (AAPL)"
   ]
  },
  {
   "cell_type": "markdown",
   "metadata": {},
   "source": [
    "In the following, the time series of stock price of AAPL is downloaded from Yahoo Finance. In order to provide more information to the time series plot, the 30-day moving average is also calculated here using convolve() method in numpy."
   ]
  },
  {
   "cell_type": "code",
   "execution_count": 7,
   "metadata": {},
   "outputs": [
    {
     "name": "stdout",
     "output_type": "stream",
     "text": [
      "[*********************100%***********************]  1 of 1 downloaded\n"
     ]
    },
    {
     "data": {
      "text/html": [
       "\n",
       "\n",
       "\n",
       "\n",
       "\n",
       "\n",
       "  <div class=\"bk-root\" id=\"bc99a057-c26c-42fd-b395-63025c733ee0\" data-root-id=\"1383\"></div>\n"
      ]
     },
     "metadata": {},
     "output_type": "display_data"
    },
    {
     "data": {
      "application/javascript": [
       "(function(root) {\n",
       "  function embed_document(root) {\n",
       "    \n",
       "  var docs_json = {\"c661b8f7-4c78-467d-a790-1a04e320595f\":{\"roots\":{\"references\":[{\"attributes\":{\"below\":[{\"id\":\"1392\",\"type\":\"DatetimeAxis\"}],\"center\":[{\"id\":\"1396\",\"type\":\"Grid\"},{\"id\":\"1401\",\"type\":\"Grid\"},{\"id\":\"1439\",\"type\":\"Legend\"}],\"left\":[{\"id\":\"1397\",\"type\":\"LinearAxis\"}],\"plot_width\":800,\"renderers\":[{\"id\":\"1418\",\"type\":\"GlyphRenderer\"},{\"id\":\"1444\",\"type\":\"GlyphRenderer\"}],\"title\":{\"id\":\"1420\",\"type\":\"Title\"},\"toolbar\":{\"id\":\"1408\",\"type\":\"Toolbar\"},\"toolbar_location\":null,\"x_range\":{\"id\":\"1384\",\"type\":\"DataRange1d\"},\"x_scale\":{\"id\":\"1388\",\"type\":\"LinearScale\"},\"y_range\":{\"id\":\"1386\",\"type\":\"DataRange1d\"},\"y_scale\":{\"id\":\"1390\",\"type\":\"LinearScale\"}},\"id\":\"1383\",\"subtype\":\"Figure\",\"type\":\"Plot\"},{\"attributes\":{},\"id\":\"1390\",\"type\":\"LinearScale\"},{\"attributes\":{\"days\":[1,2,3,4,5,6,7,8,9,10,11,12,13,14,15,16,17,18,19,20,21,22,23,24,25,26,27,28,29,30,31]},\"id\":\"1429\",\"type\":\"DaysTicker\"},{\"attributes\":{\"mantissas\":[1,2,5],\"max_interval\":500.0,\"num_minor_ticks\":0},\"id\":\"1426\",\"type\":\"AdaptiveTicker\"},{\"attributes\":{},\"id\":\"1519\",\"type\":\"UnionRenderers\"},{\"attributes\":{\"days\":[1,8,15,22]},\"id\":\"1431\",\"type\":\"DaysTicker\"},{\"attributes\":{\"days\":[1,15]},\"id\":\"1432\",\"type\":\"DaysTicker\"},{\"attributes\":{\"base\":60,\"mantissas\":[1,2,5,10,15,20,30],\"max_interval\":1800000.0,\"min_interval\":1000.0,\"num_minor_ticks\":0},\"id\":\"1427\",\"type\":\"AdaptiveTicker\"},{\"attributes\":{\"active_drag\":\"auto\",\"active_inspect\":\"auto\",\"active_multi\":null,\"active_scroll\":\"auto\",\"active_tap\":\"auto\",\"tools\":[{\"id\":\"1402\",\"type\":\"PanTool\"},{\"id\":\"1403\",\"type\":\"WheelZoomTool\"},{\"id\":\"1404\",\"type\":\"BoxZoomTool\"},{\"id\":\"1405\",\"type\":\"SaveTool\"},{\"id\":\"1406\",\"type\":\"ResetTool\"},{\"id\":\"1407\",\"type\":\"HelpTool\"}]},\"id\":\"1408\",\"type\":\"Toolbar\"},{\"attributes\":{\"axis_label\":\"Date\",\"formatter\":{\"id\":\"1422\",\"type\":\"DatetimeTickFormatter\"},\"ticker\":{\"id\":\"1393\",\"type\":\"DatetimeTicker\"}},\"id\":\"1392\",\"type\":\"DatetimeAxis\"},{\"attributes\":{\"data_source\":{\"id\":\"1415\",\"type\":\"ColumnDataSource\"},\"glyph\":{\"id\":\"1416\",\"type\":\"Circle\"},\"hover_glyph\":null,\"muted_glyph\":null,\"nonselection_glyph\":{\"id\":\"1417\",\"type\":\"Circle\"},\"selection_glyph\":null,\"view\":{\"id\":\"1419\",\"type\":\"CDSView\"}},\"id\":\"1418\",\"type\":\"GlyphRenderer\"},{\"attributes\":{\"months\":[0,1,2,3,4,5,6,7,8,9,10,11]},\"id\":\"1433\",\"type\":\"MonthsTicker\"},{\"attributes\":{\"axis_label\":\"Price\",\"formatter\":{\"id\":\"1424\",\"type\":\"BasicTickFormatter\"},\"ticker\":{\"id\":\"1398\",\"type\":\"BasicTicker\"}},\"id\":\"1397\",\"type\":\"LinearAxis\"},{\"attributes\":{},\"id\":\"1407\",\"type\":\"HelpTool\"},{\"attributes\":{\"callback\":null},\"id\":\"1386\",\"type\":\"DataRange1d\"},{\"attributes\":{\"months\":[0,2,4,6,8,10]},\"id\":\"1434\",\"type\":\"MonthsTicker\"},{\"attributes\":{\"callback\":null},\"id\":\"1384\",\"type\":\"DataRange1d\"},{\"attributes\":{},\"id\":\"1406\",\"type\":\"ResetTool\"},{\"attributes\":{\"callback\":null,\"data\":{\"x\":{\"__ndarray__\":\"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\",\"dtype\":\"float64\",\"shape\":[874]},\"y\":{\"__ndarray__\":\"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\",\"dtype\":\"float64\",\"shape\":[874]}},\"selected\":{\"id\":\"1518\",\"type\":\"Selection\"},\"selection_policy\":{\"id\":\"1519\",\"type\":\"UnionRenderers\"}},\"id\":\"1441\",\"type\":\"ColumnDataSource\"},{\"attributes\":{\"months\":[0,4,8]},\"id\":\"1435\",\"type\":\"MonthsTicker\"},{\"attributes\":{},\"id\":\"1405\",\"type\":\"SaveTool\"},{\"attributes\":{\"fill_alpha\":{\"value\":0.1},\"fill_color\":{\"value\":\"#1f77b4\"},\"line_alpha\":{\"value\":0.1},\"line_color\":{\"value\":\"#1f77b4\"},\"x\":{\"field\":\"x\"},\"y\":{\"field\":\"y\"}},\"id\":\"1417\",\"type\":\"Circle\"},{\"attributes\":{\"months\":[0,6]},\"id\":\"1436\",\"type\":\"MonthsTicker\"},{\"attributes\":{\"overlay\":{\"id\":\"1438\",\"type\":\"BoxAnnotation\"}},\"id\":\"1404\",\"type\":\"BoxZoomTool\"},{\"attributes\":{\"text\":\"AAPL One-Month Average\"},\"id\":\"1420\",\"type\":\"Title\"},{\"attributes\":{},\"id\":\"1388\",\"type\":\"LinearScale\"},{\"attributes\":{},\"id\":\"1437\",\"type\":\"YearsTicker\"},{\"attributes\":{\"days\":[1,4,7,10,13,16,19,22,25,28]},\"id\":\"1430\",\"type\":\"DaysTicker\"},{\"attributes\":{\"bottom_units\":\"screen\",\"fill_alpha\":{\"value\":0.5},\"fill_color\":{\"value\":\"lightgrey\"},\"left_units\":\"screen\",\"level\":\"overlay\",\"line_alpha\":{\"value\":1.0},\"line_color\":{\"value\":\"black\"},\"line_dash\":[4,4],\"line_width\":{\"value\":2},\"render_mode\":\"css\",\"right_units\":\"screen\",\"top_units\":\"screen\"},\"id\":\"1438\",\"type\":\"BoxAnnotation\"},{\"attributes\":{},\"id\":\"1518\",\"type\":\"Selection\"},{\"attributes\":{\"label\":{\"value\":\"Close\"},\"renderers\":[{\"id\":\"1418\",\"type\":\"GlyphRenderer\"}]},\"id\":\"1440\",\"type\":\"LegendItem\"},{\"attributes\":{},\"id\":\"1466\",\"type\":\"UnionRenderers\"},{\"attributes\":{\"items\":[{\"id\":\"1440\",\"type\":\"LegendItem\"},{\"id\":\"1467\",\"type\":\"LegendItem\"}],\"location\":\"top_left\"},\"id\":\"1439\",\"type\":\"Legend\"},{\"attributes\":{\"num_minor_ticks\":5,\"tickers\":[{\"id\":\"1426\",\"type\":\"AdaptiveTicker\"},{\"id\":\"1427\",\"type\":\"AdaptiveTicker\"},{\"id\":\"1428\",\"type\":\"AdaptiveTicker\"},{\"id\":\"1429\",\"type\":\"DaysTicker\"},{\"id\":\"1430\",\"type\":\"DaysTicker\"},{\"id\":\"1431\",\"type\":\"DaysTicker\"},{\"id\":\"1432\",\"type\":\"DaysTicker\"},{\"id\":\"1433\",\"type\":\"MonthsTicker\"},{\"id\":\"1434\",\"type\":\"MonthsTicker\"},{\"id\":\"1435\",\"type\":\"MonthsTicker\"},{\"id\":\"1436\",\"type\":\"MonthsTicker\"},{\"id\":\"1437\",\"type\":\"YearsTicker\"}]},\"id\":\"1393\",\"type\":\"DatetimeTicker\"},{\"attributes\":{\"line_color\":\"navy\",\"x\":{\"field\":\"x\"},\"y\":{\"field\":\"y\"}},\"id\":\"1442\",\"type\":\"Line\"},{\"attributes\":{},\"id\":\"1402\",\"type\":\"PanTool\"},{\"attributes\":{\"callback\":null,\"data\":{\"x\":{\"__ndarray__\":\"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\",\"dtype\":\"float64\",\"shape\":[874]},\"y\":{\"__ndarray__\":\"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\",\"dtype\":\"float64\",\"shape\":[874]}},\"selected\":{\"id\":\"1465\",\"type\":\"Selection\"},\"selection_policy\":{\"id\":\"1466\",\"type\":\"UnionRenderers\"}},\"id\":\"1415\",\"type\":\"ColumnDataSource\"},{\"attributes\":{\"line_alpha\":0.1,\"line_color\":\"#1f77b4\",\"x\":{\"field\":\"x\"},\"y\":{\"field\":\"y\"}},\"id\":\"1443\",\"type\":\"Line\"},{\"attributes\":{\"grid_line_alpha\":0,\"ticker\":{\"id\":\"1393\",\"type\":\"DatetimeTicker\"}},\"id\":\"1396\",\"type\":\"Grid\"},{\"attributes\":{},\"id\":\"1403\",\"type\":\"WheelZoomTool\"},{\"attributes\":{\"data_source\":{\"id\":\"1441\",\"type\":\"ColumnDataSource\"},\"glyph\":{\"id\":\"1442\",\"type\":\"Line\"},\"hover_glyph\":null,\"muted_glyph\":null,\"nonselection_glyph\":{\"id\":\"1443\",\"type\":\"Line\"},\"selection_glyph\":null,\"view\":{\"id\":\"1445\",\"type\":\"CDSView\"}},\"id\":\"1444\",\"type\":\"GlyphRenderer\"},{\"attributes\":{},\"id\":\"1398\",\"type\":\"BasicTicker\"},{\"attributes\":{\"source\":{\"id\":\"1441\",\"type\":\"ColumnDataSource\"}},\"id\":\"1445\",\"type\":\"CDSView\"},{\"attributes\":{\"base\":24,\"mantissas\":[1,2,4,6,8,12],\"max_interval\":43200000.0,\"min_interval\":3600000.0,\"num_minor_ticks\":0},\"id\":\"1428\",\"type\":\"AdaptiveTicker\"},{\"attributes\":{\"source\":{\"id\":\"1415\",\"type\":\"ColumnDataSource\"}},\"id\":\"1419\",\"type\":\"CDSView\"},{\"attributes\":{},\"id\":\"1465\",\"type\":\"Selection\"},{\"attributes\":{},\"id\":\"1422\",\"type\":\"DatetimeTickFormatter\"},{\"attributes\":{\"fill_alpha\":{\"value\":0.2},\"fill_color\":{\"value\":\"darkgrey\"},\"line_alpha\":{\"value\":0.2},\"line_color\":{\"value\":\"darkgrey\"},\"x\":{\"field\":\"x\"},\"y\":{\"field\":\"y\"}},\"id\":\"1416\",\"type\":\"Circle\"},{\"attributes\":{\"label\":{\"value\":\"30-Day Average\"},\"renderers\":[{\"id\":\"1444\",\"type\":\"GlyphRenderer\"}]},\"id\":\"1467\",\"type\":\"LegendItem\"},{\"attributes\":{\"band_fill_alpha\":0.1,\"band_fill_color\":\"olive\",\"dimension\":1,\"grid_line_alpha\":0,\"ticker\":{\"id\":\"1398\",\"type\":\"BasicTicker\"}},\"id\":\"1401\",\"type\":\"Grid\"},{\"attributes\":{},\"id\":\"1424\",\"type\":\"BasicTickFormatter\"}],\"root_ids\":[\"1383\"]},\"title\":\"Bokeh Application\",\"version\":\"1.3.4\"}};\n",
       "  var render_items = [{\"docid\":\"c661b8f7-4c78-467d-a790-1a04e320595f\",\"roots\":{\"1383\":\"bc99a057-c26c-42fd-b395-63025c733ee0\"}}];\n",
       "  root.Bokeh.embed.embed_items_notebook(docs_json, render_items);\n",
       "\n",
       "  }\n",
       "  if (root.Bokeh !== undefined) {\n",
       "    embed_document(root);\n",
       "  } else {\n",
       "    var attempts = 0;\n",
       "    var timer = setInterval(function(root) {\n",
       "      if (root.Bokeh !== undefined) {\n",
       "        embed_document(root);\n",
       "        clearInterval(timer);\n",
       "      }\n",
       "      attempts++;\n",
       "      if (attempts > 100) {\n",
       "        console.log(\"Bokeh: ERROR: Unable to run BokehJS code because BokehJS library is missing\");\n",
       "        clearInterval(timer);\n",
       "      }\n",
       "    }, 10, root)\n",
       "  }\n",
       "})(window);"
      ],
      "application/vnd.bokehjs_exec.v0+json": ""
     },
     "metadata": {
      "application/vnd.bokehjs_exec.v0+json": {
       "id": "1383"
      }
     },
     "output_type": "display_data"
    }
   ],
   "source": [
    "# prepare some data\n",
    "start = '2016-01-01'\n",
    "end = '2019-09-18'\n",
    "stockcode = 'AAPL'\n",
    "stock = yf.download(stockcode,start,end)\n",
    "plot_val = np.array(stock['Adj Close'])\n",
    "plot_date = np.array(stock.index, dtype=np.datetime64)\n",
    "\n",
    "win_size = 30\n",
    "window = np.ones(win_size)/float(win_size)\n",
    "plot_avg = np.convolve(plot_val, window, 'same')\n",
    "\n",
    "# create a new plot with a a datetime axis type\n",
    "p = figure(plot_width=800, plot_height=600, \n",
    "           x_axis_type=\"datetime\",\n",
    "           toolbar_location=None)\n",
    "# add renderers\n",
    "p.circle(plot_date[win_size:-win_size], plot_val[win_size:-win_size], size=4, color='darkgrey', alpha=0.2, legend='Close')\n",
    "p.line(plot_date[win_size:-win_size], plot_avg[win_size:-win_size], color='navy', legend=str(win_size)+'-Day Average')\n",
    "\n",
    "# NEW: customize by setting attributes\n",
    "p.title.text = stockcode + ' One-Month Average'\n",
    "p.legend.location = \"top_left\"\n",
    "p.grid.grid_line_alpha = 0\n",
    "p.xaxis.axis_label = 'Date'\n",
    "p.yaxis.axis_label = 'Price'\n",
    "p.ygrid.band_fill_color = \"olive\"\n",
    "p.ygrid.band_fill_alpha = 0.1\n",
    "\n",
    "# show the results\n",
    "show(p)"
   ]
  },
  {
   "cell_type": "markdown",
   "metadata": {},
   "source": [
    "### Construct a histogram plot for a stock (IBM)"
   ]
  },
  {
   "cell_type": "markdown",
   "metadata": {},
   "source": [
    "To construct an histogram in Bokeh, the histogram() method in numpy is required here to compute the variables close_hist and edges in the following example. In particular, the variable close_hist stores the frequency count of each bin in the histogram while the variable edge stores the boundaries of bins in the graph. Then, the method quad() is applied to generate the histogram."
   ]
  },
  {
   "cell_type": "code",
   "execution_count": 8,
   "metadata": {},
   "outputs": [
    {
     "name": "stdout",
     "output_type": "stream",
     "text": [
      "[*********************100%***********************]  1 of 1 downloaded\n"
     ]
    },
    {
     "data": {
      "text/html": [
       "\n",
       "\n",
       "\n",
       "\n",
       "\n",
       "\n",
       "  <div class=\"bk-root\" id=\"428d5044-18de-4d11-a70e-4440fd05a874\" data-root-id=\"1658\"></div>\n"
      ]
     },
     "metadata": {},
     "output_type": "display_data"
    },
    {
     "data": {
      "application/javascript": [
       "(function(root) {\n",
       "  function embed_document(root) {\n",
       "    \n",
       "  var docs_json = {\"284387c4-7173-43b6-9c44-7073a6ad4dc0\":{\"roots\":{\"references\":[{\"attributes\":{\"background_fill_alpha\":{\"value\":0.3},\"background_fill_color\":{\"value\":\"grey\"},\"below\":[{\"id\":\"1669\",\"type\":\"LinearAxis\"}],\"center\":[{\"id\":\"1673\",\"type\":\"Grid\"},{\"id\":\"1678\",\"type\":\"Grid\"}],\"left\":[{\"id\":\"1674\",\"type\":\"LinearAxis\"}],\"renderers\":[{\"id\":\"1695\",\"type\":\"GlyphRenderer\"}],\"title\":{\"id\":\"1659\",\"type\":\"Title\"},\"toolbar\":{\"id\":\"1685\",\"type\":\"Toolbar\"},\"x_range\":{\"id\":\"1661\",\"type\":\"DataRange1d\"},\"x_scale\":{\"id\":\"1665\",\"type\":\"LinearScale\"},\"y_range\":{\"id\":\"1663\",\"type\":\"DataRange1d\"},\"y_scale\":{\"id\":\"1667\",\"type\":\"LinearScale\"}},\"id\":\"1658\",\"subtype\":\"Figure\",\"type\":\"Plot\"},{\"attributes\":{},\"id\":\"1755\",\"type\":\"UnionRenderers\"},{\"attributes\":{\"bottom\":{\"value\":0},\"fill_alpha\":{\"value\":0.1},\"fill_color\":{\"value\":\"#1f77b4\"},\"left\":{\"field\":\"left\"},\"line_alpha\":{\"value\":0.1},\"line_color\":{\"value\":\"#1f77b4\"},\"right\":{\"field\":\"right\"},\"top\":{\"field\":\"top\"}},\"id\":\"1694\",\"type\":\"Quad\"},{\"attributes\":{\"dimension\":1,\"ticker\":{\"id\":\"1675\",\"type\":\"BasicTicker\"}},\"id\":\"1678\",\"type\":\"Grid\"},{\"attributes\":{},\"id\":\"1683\",\"type\":\"ResetTool\"},{\"attributes\":{\"source\":{\"id\":\"1692\",\"type\":\"ColumnDataSource\"}},\"id\":\"1696\",\"type\":\"CDSView\"},{\"attributes\":{\"overlay\":{\"id\":\"1753\",\"type\":\"BoxAnnotation\"}},\"id\":\"1681\",\"type\":\"BoxZoomTool\"},{\"attributes\":{},\"id\":\"1749\",\"type\":\"BasicTickFormatter\"},{\"attributes\":{},\"id\":\"1679\",\"type\":\"PanTool\"},{\"attributes\":{\"axis_label\":\"Freqency Count\",\"formatter\":{\"id\":\"1751\",\"type\":\"BasicTickFormatter\"},\"ticker\":{\"id\":\"1675\",\"type\":\"BasicTicker\"}},\"id\":\"1674\",\"type\":\"LinearAxis\"},{\"attributes\":{},\"id\":\"1684\",\"type\":\"HelpTool\"},{\"attributes\":{},\"id\":\"1670\",\"type\":\"BasicTicker\"},{\"attributes\":{\"bottom_units\":\"screen\",\"fill_alpha\":{\"value\":0.5},\"fill_color\":{\"value\":\"lightgrey\"},\"left_units\":\"screen\",\"level\":\"overlay\",\"line_alpha\":{\"value\":1.0},\"line_color\":{\"value\":\"black\"},\"line_dash\":[4,4],\"line_width\":{\"value\":2},\"render_mode\":\"css\",\"right_units\":\"screen\",\"top_units\":\"screen\"},\"id\":\"1753\",\"type\":\"BoxAnnotation\"},{\"attributes\":{\"callback\":null},\"id\":\"1663\",\"type\":\"DataRange1d\"},{\"attributes\":{},\"id\":\"1665\",\"type\":\"LinearScale\"},{\"attributes\":{},\"id\":\"1751\",\"type\":\"BasicTickFormatter\"},{\"attributes\":{\"axis_label\":\"Stock Price\",\"formatter\":{\"id\":\"1749\",\"type\":\"BasicTickFormatter\"},\"ticker\":{\"id\":\"1670\",\"type\":\"BasicTicker\"}},\"id\":\"1669\",\"type\":\"LinearAxis\"},{\"attributes\":{\"ticker\":{\"id\":\"1670\",\"type\":\"BasicTicker\"}},\"id\":\"1673\",\"type\":\"Grid\"},{\"attributes\":{\"text\":\"Histogram of Stock Price\"},\"id\":\"1659\",\"type\":\"Title\"},{\"attributes\":{},\"id\":\"1754\",\"type\":\"Selection\"},{\"attributes\":{},\"id\":\"1675\",\"type\":\"BasicTicker\"},{\"attributes\":{\"callback\":null,\"data\":{\"left\":{\"__ndarray__\":\"XI/C9SisVkAJ+ObVxDdXQLZgC7Zgw1dAY8kvlvxOWEAQMlR2mNpYQL2aeFY0ZllAagOdNtDxWUAWbMEWbH1aQMTU5fYHCVtAcD0K16OUW0Aepi63PyBcQMoOU5fbq1xAd3d3d3c3XUAk4JtXE8NdQNFIwDevTl5AfrHkF0vaXkArGgn45mVfQNiCLdiC8V9AwvUoXI8+YEAZKjtMXYRgQHBeTTwrymBAxpJfLPkPYUAcx3Ecx1VhQHP7gwyVm2FAyS+W/GLhYUAgZKjsMCdiQHaYutz+bGJAzczMzMyyYkAjAd+8mvhiQHo18axoPmNA0GkDnTaEY0AmnhWNBMpjQH3SJ33SD2RA1AY6baBVZEAqO0xdbptkQIBvXk084WRA\",\"dtype\":\"float64\",\"shape\":[36]},\"right\":{\"__ndarray__\":\"Cfjm1cQ3V0C2YAu2YMNXQGPJL5b8TlhAEDJUdpjaWEC9mnhWNGZZQGoDnTbQ8VlAFmzBFmx9WkDE1OX2BwlbQHA9CtejlFtAHqYutz8gXEDKDlOX26tcQHd3d3d3N11AJOCbVxPDXUDRSMA3r05eQH6x5BdL2l5AKxoJ+OZlX0DYgi3YgvFfQML1KFyPPmBAGSo7TF2EYEBwXk08K8pgQMaSXyz5D2FAHMdxHMdVYUBz+4MMlZthQMkvlvxi4WFAIGSo7DAnYkB2mLrc/mxiQM3MzMzMsmJAIwHfvJr4YkB6NfGsaD5jQNBpA502hGNAJp4VjQTKY0B90id90g9kQNQGOm2gVWRAKjtMXW6bZECAb15NPOFkQNejcD0KJ2VA\",\"dtype\":\"float64\",\"shape\":[36]},\"top\":[24,46,77,36,6,12,20,16,41,24,28,31,49,31,41,76,62,91,128,149,132,140,164,143,95,104,138,130,103,91,67,62,40,26,16,7]},\"selected\":{\"id\":\"1754\",\"type\":\"Selection\"},\"selection_policy\":{\"id\":\"1755\",\"type\":\"UnionRenderers\"}},\"id\":\"1692\",\"type\":\"ColumnDataSource\"},{\"attributes\":{\"bottom\":{\"value\":0},\"fill_alpha\":{\"value\":0.8},\"fill_color\":{\"value\":\"darkgreen\"},\"left\":{\"field\":\"left\"},\"line_alpha\":{\"value\":0.8},\"right\":{\"field\":\"right\"},\"top\":{\"field\":\"top\"}},\"id\":\"1693\",\"type\":\"Quad\"},{\"attributes\":{},\"id\":\"1682\",\"type\":\"SaveTool\"},{\"attributes\":{\"data_source\":{\"id\":\"1692\",\"type\":\"ColumnDataSource\"},\"glyph\":{\"id\":\"1693\",\"type\":\"Quad\"},\"hover_glyph\":null,\"muted_glyph\":null,\"nonselection_glyph\":{\"id\":\"1694\",\"type\":\"Quad\"},\"selection_glyph\":null,\"view\":{\"id\":\"1696\",\"type\":\"CDSView\"}},\"id\":\"1695\",\"type\":\"GlyphRenderer\"},{\"attributes\":{},\"id\":\"1667\",\"type\":\"LinearScale\"},{\"attributes\":{\"active_drag\":\"auto\",\"active_inspect\":\"auto\",\"active_multi\":null,\"active_scroll\":\"auto\",\"active_tap\":\"auto\",\"tools\":[{\"id\":\"1679\",\"type\":\"PanTool\"},{\"id\":\"1680\",\"type\":\"WheelZoomTool\"},{\"id\":\"1681\",\"type\":\"BoxZoomTool\"},{\"id\":\"1682\",\"type\":\"SaveTool\"},{\"id\":\"1683\",\"type\":\"ResetTool\"},{\"id\":\"1684\",\"type\":\"HelpTool\"}]},\"id\":\"1685\",\"type\":\"Toolbar\"},{\"attributes\":{},\"id\":\"1680\",\"type\":\"WheelZoomTool\"},{\"attributes\":{\"callback\":null},\"id\":\"1661\",\"type\":\"DataRange1d\"}],\"root_ids\":[\"1658\"]},\"title\":\"Bokeh Application\",\"version\":\"1.3.4\"}};\n",
       "  var render_items = [{\"docid\":\"284387c4-7173-43b6-9c44-7073a6ad4dc0\",\"roots\":{\"1658\":\"428d5044-18de-4d11-a70e-4440fd05a874\"}}];\n",
       "  root.Bokeh.embed.embed_items_notebook(docs_json, render_items);\n",
       "\n",
       "  }\n",
       "  if (root.Bokeh !== undefined) {\n",
       "    embed_document(root);\n",
       "  } else {\n",
       "    var attempts = 0;\n",
       "    var timer = setInterval(function(root) {\n",
       "      if (root.Bokeh !== undefined) {\n",
       "        embed_document(root);\n",
       "        clearInterval(timer);\n",
       "      }\n",
       "      attempts++;\n",
       "      if (attempts > 100) {\n",
       "        console.log(\"Bokeh: ERROR: Unable to run BokehJS code because BokehJS library is missing\");\n",
       "        clearInterval(timer);\n",
       "      }\n",
       "    }, 10, root)\n",
       "  }\n",
       "})(window);"
      ],
      "application/vnd.bokehjs_exec.v0+json": ""
     },
     "metadata": {
      "application/vnd.bokehjs_exec.v0+json": {
       "id": "1658"
      }
     },
     "output_type": "display_data"
    }
   ],
   "source": [
    "# prepare some data\n",
    "start = '2010-01-01'\n",
    "end = '2019-09-20'\n",
    "stockcode = 'IBM'\n",
    "stock = yf.download(stockcode,start,end)\n",
    "bin_size = 5\n",
    "plot_val = stock['Adj Close']\n",
    "range_start = min(plot_val)\n",
    "range_end = max(plot_val)\n",
    "\n",
    "close_hist, edges = np.histogram(plot_val, \n",
    "                                 bins = int(180/bin_size), \n",
    "                                 range = [range_start, range_end])\n",
    "plot_dat = pd.DataFrame({'price': close_hist, \n",
    "                         'left': edges[:-1], \n",
    "                         'right': edges[1:]})\n",
    "\n",
    "# create a new plot\n",
    "p = figure(plot_width = 600, plot_height = 600, \n",
    "           background_fill_color = \"grey\",\n",
    "           background_fill_alpha = 0.3,\n",
    "           title = 'Histogram of Stock Price',\n",
    "           x_axis_label = \"Stock Price\",\n",
    "           y_axis_label = \"Freqency Count\")\n",
    "\n",
    "# add renderer\n",
    "p.quad(bottom=0, top=plot_dat['price'], \n",
    "       left=plot_dat['left'], right=plot_dat['right'], alpha=0.8, \n",
    "       fill_color=\"darkgreen\", line_color='black')\n",
    "\n",
    "# show the results\n",
    "show(p)"
   ]
  },
  {
   "cell_type": "markdown",
   "metadata": {},
   "source": [
    "### Add interactivity to the histogram"
   ]
  },
  {
   "cell_type": "markdown",
   "metadata": {},
   "source": [
    "To introduce interactivity to the historgram, the following data stored in the pandas DataFrame has to be converted by ColumnDataSource whose data atrribute is actually a dictionary. Specficially,\n",
    "\n",
    "source = ColumnDataSource(data=plot_dat)\n",
    "\n",
    "When the variables specified in the quad() method, the variables are specified in the form of strings.\n",
    "\n",
    "When the mouse pointer is moved around the histgram, one may want to show additional information of histogram, e.g. the percentage of observations falling withion this bin or the price in this bin. Actually, the method HoverTool() is used to construct the tooltips and the information in the tooltips is specified in form of list. In the following example, the f_price, which is the average of left and right boundaries of a bin, is constructed in the ColumnDataSource.data. In addition, format strings are allowed to specify for the variables in the tooltips. Finally, the object by HoverTool() method must be added to the histogram by add_tools() method."
   ]
  },
  {
   "cell_type": "code",
   "execution_count": 9,
   "metadata": {},
   "outputs": [
    {
     "name": "stdout",
     "output_type": "stream",
     "text": [
      "[*********************100%***********************]  1 of 1 downloaded\n"
     ]
    },
    {
     "data": {
      "text/html": [
       "\n",
       "\n",
       "\n",
       "\n",
       "\n",
       "\n",
       "  <div class=\"bk-root\" id=\"8ff53b52-c2f3-41b5-bfce-33080e97ec75\" data-root-id=\"1805\"></div>\n"
      ]
     },
     "metadata": {},
     "output_type": "display_data"
    },
    {
     "data": {
      "application/javascript": [
       "(function(root) {\n",
       "  function embed_document(root) {\n",
       "    \n",
       "  var docs_json = {\"584524cb-90cc-48b1-8620-b8449ea8322b\":{\"roots\":{\"references\":[{\"attributes\":{\"background_fill_alpha\":{\"value\":0.3},\"background_fill_color\":{\"value\":\"grey\"},\"below\":[{\"id\":\"1816\",\"type\":\"LinearAxis\"}],\"center\":[{\"id\":\"1820\",\"type\":\"Grid\"},{\"id\":\"1825\",\"type\":\"Grid\"}],\"left\":[{\"id\":\"1821\",\"type\":\"LinearAxis\"}],\"renderers\":[{\"id\":\"1842\",\"type\":\"GlyphRenderer\"}],\"title\":{\"id\":\"1806\",\"type\":\"Title\"},\"toolbar\":{\"id\":\"1832\",\"type\":\"Toolbar\"},\"x_range\":{\"id\":\"1808\",\"type\":\"DataRange1d\"},\"x_scale\":{\"id\":\"1812\",\"type\":\"LinearScale\"},\"y_range\":{\"id\":\"1810\",\"type\":\"DataRange1d\"},\"y_scale\":{\"id\":\"1814\",\"type\":\"LinearScale\"}},\"id\":\"1805\",\"subtype\":\"Figure\",\"type\":\"Plot\"},{\"attributes\":{\"callback\":null,\"data\":{\"f_price\":[91.78069444444444,93.96208333333334,96.14347222222221,98.32486111111112,100.50625,102.6876388888889,104.86902777777777,107.05041666666666,109.23180555555555,111.41319444444444,113.59458333333333,115.77597222222221,117.95736111111111,120.13874999999999,122.32013888888889,124.50152777777777,126.68291666666667,128.86430555555555,131.04569444444445,133.22708333333333,135.40847222222223,137.5898611111111,139.77125,141.95263888888888,144.13402777777776,146.31541666666666,148.49680555555557,150.67819444444444,152.85958333333332,155.04097222222222,157.2223611111111,159.40375,161.58513888888888,163.76652777777778,165.94791666666666,168.12930555555556],\"index\":[0,1,2,3,4,5,6,7,8,9,10,11,12,13,14,15,16,17,18,19,20,21,22,23,24,25,26,27,28,29,30,31,32,33,34,35],\"left\":{\"__ndarray__\":\"XI/C9SisVkAJ+ObVxDdXQLZgC7Zgw1dAY8kvlvxOWEAQMlR2mNpYQL2aeFY0ZllAagOdNtDxWUAWbMEWbH1aQMTU5fYHCVtAcD0K16OUW0Aepi63PyBcQMoOU5fbq1xAd3d3d3c3XUAk4JtXE8NdQNFIwDevTl5AfrHkF0vaXkArGgn45mVfQNiCLdiC8V9AwvUoXI8+YEAZKjtMXYRgQHBeTTwrymBAxpJfLPkPYUAcx3Ecx1VhQHP7gwyVm2FAyS+W/GLhYUAgZKjsMCdiQHaYutz+bGJAzczMzMyyYkAjAd+8mvhiQHo18axoPmNA0GkDnTaEY0AmnhWNBMpjQH3SJ33SD2RA1AY6baBVZEAqO0xdbptkQIBvXk084WRA\",\"dtype\":\"float64\",\"shape\":[36]},\"prop\":{\"__ndarray__\":\"q7CsAUgYhD+kfkWs70GTPwmDAmwkHqA/AAmDAmwkjj+rsKwBSBhkP6uwrAFIGHQ/jugPrOa+gD/kQOasCst6P5KBw9YSKpE/q7CsAUgYhD/HeElXqXGHP90Of1ey9Ik/rklgLHSDlD/dDn9XsvSJP5KBw9YSKpE/Dm1RrRzRnz/dDn9XsvSZPyKy65ZZDKM/5EDmrArLqj+JB0RtWjCvP+tyTQJjoas/+dYbrRNOrT+SgcPWEiqxP348Ke3V7q0/KeRS7LHioz+5FHus+MSlP/Y9aILn4qw/59mZ1zY2qz83SCGXYo+lPyKy65ZZDKM/7gsBLY8MnD/dDn9XsvSZP47oD6zmvpA/uRR7rPjEhT/kQOasCst6P8d4SVepcWc/\",\"dtype\":\"float64\",\"shape\":[36]},\"right\":{\"__ndarray__\":\"Cfjm1cQ3V0C2YAu2YMNXQGPJL5b8TlhAEDJUdpjaWEC9mnhWNGZZQGoDnTbQ8VlAFmzBFmx9WkDE1OX2BwlbQHA9CtejlFtAHqYutz8gXEDKDlOX26tcQHd3d3d3N11AJOCbVxPDXUDRSMA3r05eQH6x5BdL2l5AKxoJ+OZlX0DYgi3YgvFfQML1KFyPPmBAGSo7TF2EYEBwXk08K8pgQMaSXyz5D2FAHMdxHMdVYUBz+4MMlZthQMkvlvxi4WFAIGSo7DAnYkB2mLrc/mxiQM3MzMzMsmJAIwHfvJr4YkB6NfGsaD5jQNBpA502hGNAJp4VjQTKY0B90id90g9kQNQGOm2gVWRAKjtMXW6bZECAb15NPOFkQNejcD0KJ2VA\",\"dtype\":\"float64\",\"shape\":[36]}},\"selected\":{\"id\":\"1911\",\"type\":\"Selection\"},\"selection_policy\":{\"id\":\"1912\",\"type\":\"UnionRenderers\"}},\"id\":\"1804\",\"type\":\"ColumnDataSource\"},{\"attributes\":{},\"id\":\"1827\",\"type\":\"WheelZoomTool\"},{\"attributes\":{\"callback\":null,\"tooltips\":[[\"Price\",\"@f_price{0.2f}\"],[\"Percentage\",\"@prop{%0.2f}\"]]},\"id\":\"1844\",\"type\":\"HoverTool\"},{\"attributes\":{},\"id\":\"1831\",\"type\":\"HelpTool\"},{\"attributes\":{\"active_drag\":\"auto\",\"active_inspect\":\"auto\",\"active_multi\":null,\"active_scroll\":\"auto\",\"active_tap\":\"auto\",\"tools\":[{\"id\":\"1826\",\"type\":\"PanTool\"},{\"id\":\"1827\",\"type\":\"WheelZoomTool\"},{\"id\":\"1828\",\"type\":\"BoxZoomTool\"},{\"id\":\"1829\",\"type\":\"SaveTool\"},{\"id\":\"1830\",\"type\":\"ResetTool\"},{\"id\":\"1831\",\"type\":\"HelpTool\"},{\"id\":\"1844\",\"type\":\"HoverTool\"}]},\"id\":\"1832\",\"type\":\"Toolbar\"},{\"attributes\":{},\"id\":\"1911\",\"type\":\"Selection\"},{\"attributes\":{},\"id\":\"1912\",\"type\":\"UnionRenderers\"},{\"attributes\":{\"bottom_units\":\"screen\",\"fill_alpha\":{\"value\":0.5},\"fill_color\":{\"value\":\"lightgrey\"},\"left_units\":\"screen\",\"level\":\"overlay\",\"line_alpha\":{\"value\":1.0},\"line_color\":{\"value\":\"black\"},\"line_dash\":[4,4],\"line_width\":{\"value\":2},\"render_mode\":\"css\",\"right_units\":\"screen\",\"top_units\":\"screen\"},\"id\":\"1910\",\"type\":\"BoxAnnotation\"},{\"attributes\":{\"source\":{\"id\":\"1804\",\"type\":\"ColumnDataSource\"}},\"id\":\"1843\",\"type\":\"CDSView\"},{\"attributes\":{\"data_source\":{\"id\":\"1804\",\"type\":\"ColumnDataSource\"},\"glyph\":{\"id\":\"1840\",\"type\":\"Quad\"},\"hover_glyph\":null,\"muted_glyph\":null,\"nonselection_glyph\":{\"id\":\"1841\",\"type\":\"Quad\"},\"selection_glyph\":null,\"view\":{\"id\":\"1843\",\"type\":\"CDSView\"}},\"id\":\"1842\",\"type\":\"GlyphRenderer\"},{\"attributes\":{\"bottom\":{\"value\":0},\"fill_alpha\":{\"value\":0.1},\"fill_color\":{\"value\":\"#1f77b4\"},\"left\":{\"field\":\"left\"},\"line_alpha\":{\"value\":0.1},\"line_color\":{\"value\":\"#1f77b4\"},\"right\":{\"field\":\"right\"},\"top\":{\"field\":\"prop\"}},\"id\":\"1841\",\"type\":\"Quad\"},{\"attributes\":{\"dimension\":1,\"ticker\":{\"id\":\"1822\",\"type\":\"BasicTicker\"}},\"id\":\"1825\",\"type\":\"Grid\"},{\"attributes\":{},\"id\":\"1829\",\"type\":\"SaveTool\"},{\"attributes\":{\"ticker\":{\"id\":\"1817\",\"type\":\"BasicTicker\"}},\"id\":\"1820\",\"type\":\"Grid\"},{\"attributes\":{},\"id\":\"1817\",\"type\":\"BasicTicker\"},{\"attributes\":{\"callback\":null},\"id\":\"1808\",\"type\":\"DataRange1d\"},{\"attributes\":{},\"id\":\"1908\",\"type\":\"BasicTickFormatter\"},{\"attributes\":{\"axis_label\":\"Stock Price\",\"formatter\":{\"id\":\"1906\",\"type\":\"BasicTickFormatter\"},\"ticker\":{\"id\":\"1817\",\"type\":\"BasicTicker\"}},\"id\":\"1816\",\"type\":\"LinearAxis\"},{\"attributes\":{\"bottom\":{\"value\":0},\"fill_alpha\":{\"value\":0.8},\"fill_color\":{\"value\":\"darkgreen\"},\"left\":{\"field\":\"left\"},\"line_alpha\":{\"value\":0.8},\"right\":{\"field\":\"right\"},\"top\":{\"field\":\"prop\"}},\"id\":\"1840\",\"type\":\"Quad\"},{\"attributes\":{\"overlay\":{\"id\":\"1910\",\"type\":\"BoxAnnotation\"}},\"id\":\"1828\",\"type\":\"BoxZoomTool\"},{\"attributes\":{},\"id\":\"1822\",\"type\":\"BasicTicker\"},{\"attributes\":{},\"id\":\"1812\",\"type\":\"LinearScale\"},{\"attributes\":{},\"id\":\"1814\",\"type\":\"LinearScale\"},{\"attributes\":{},\"id\":\"1906\",\"type\":\"BasicTickFormatter\"},{\"attributes\":{\"callback\":null},\"id\":\"1810\",\"type\":\"DataRange1d\"},{\"attributes\":{\"text\":\"Histogram of Stock Price\"},\"id\":\"1806\",\"type\":\"Title\"},{\"attributes\":{},\"id\":\"1830\",\"type\":\"ResetTool\"},{\"attributes\":{\"axis_label\":\"Relative Freqency\",\"formatter\":{\"id\":\"1908\",\"type\":\"BasicTickFormatter\"},\"ticker\":{\"id\":\"1822\",\"type\":\"BasicTicker\"}},\"id\":\"1821\",\"type\":\"LinearAxis\"},{\"attributes\":{},\"id\":\"1826\",\"type\":\"PanTool\"}],\"root_ids\":[\"1805\"]},\"title\":\"Bokeh Application\",\"version\":\"1.3.4\"}};\n",
       "  var render_items = [{\"docid\":\"584524cb-90cc-48b1-8620-b8449ea8322b\",\"roots\":{\"1805\":\"8ff53b52-c2f3-41b5-bfce-33080e97ec75\"}}];\n",
       "  root.Bokeh.embed.embed_items_notebook(docs_json, render_items);\n",
       "\n",
       "  }\n",
       "  if (root.Bokeh !== undefined) {\n",
       "    embed_document(root);\n",
       "  } else {\n",
       "    var attempts = 0;\n",
       "    var timer = setInterval(function(root) {\n",
       "      if (root.Bokeh !== undefined) {\n",
       "        embed_document(root);\n",
       "        clearInterval(timer);\n",
       "      }\n",
       "      attempts++;\n",
       "      if (attempts > 100) {\n",
       "        console.log(\"Bokeh: ERROR: Unable to run BokehJS code because BokehJS library is missing\");\n",
       "        clearInterval(timer);\n",
       "      }\n",
       "    }, 10, root)\n",
       "  }\n",
       "})(window);"
      ],
      "application/vnd.bokehjs_exec.v0+json": ""
     },
     "metadata": {
      "application/vnd.bokehjs_exec.v0+json": {
       "id": "1805"
      }
     },
     "output_type": "display_data"
    }
   ],
   "source": [
    "# prepare some data\n",
    "start = '2010-01-01'\n",
    "end = '2019-09-20'\n",
    "stockcode = 'IBM'\n",
    "stock = yf.download(stockcode,start,end)\n",
    "bin_size = 5\n",
    "plot_val = stock['Adj Close']\n",
    "range_start = min(plot_val)\n",
    "range_end = max(plot_val)\n",
    "\n",
    "close_hist, edges = np.histogram(plot_val, \n",
    "                                 bins = int(180/bin_size), \n",
    "                                 range = [range_start, range_end])\n",
    "plot_dat = pd.DataFrame({'prop': close_hist/np.sum(close_hist), \n",
    "                         'left': edges[:-1], \n",
    "                         'right': edges[1:]})\n",
    "\n",
    "# Convert the DataFrame to ColumnDataSource whose data attribute is a dict\n",
    "source = ColumnDataSource(data=plot_dat)\n",
    "\n",
    "# create a new plot\n",
    "p = figure(plot_width = 600, plot_height = 600, \n",
    "           background_fill_color = \"grey\",\n",
    "           background_fill_alpha = 0.3,\n",
    "           title = 'Histogram of Stock Price',\n",
    "           x_axis_label = \"Stock Price\",\n",
    "           y_axis_label = \"Relative Freqency\")\n",
    "\n",
    "# add renderer\n",
    "p.quad(source=source, bottom=0, top='prop', \n",
    "       left='left', right='right', alpha=0.8,\n",
    "       fill_color=\"darkgreen\", line_color='black')\n",
    "\n",
    "# add hover tool\n",
    "source.data['f_price'] = [(left+right)/2 for left, right in zip(plot_dat['left'],plot_dat['right'])]\n",
    "hover = HoverTool(tooltips = [('Price', '@f_price{0.2f}'),\n",
    "                             ('Percentage', '@prop{%0.2f}')])\n",
    "\n",
    "p.add_tools(hover)\n",
    "# show the results\n",
    "show(p)"
   ]
  },
  {
   "cell_type": "markdown",
   "metadata": {},
   "source": [
    "### Construct An Interactive Density Plot"
   ]
  },
  {
   "cell_type": "markdown",
   "metadata": {},
   "source": [
    "To construct dennsity plot in Bokeh, the kernel density estimation feature is imported from the scipy module. In the following illustration, the Gaussian kernel density function with fixed bandwidth of 1 is considered. Here, the lists of x-values and y-values are constructed by the numpy module. Also, ColumnDataSource() method is used if we want to generate an interactive density plot. The multi_line() method is used to generate the line plot of estiamted kernel density."
   ]
  },
  {
   "cell_type": "code",
   "execution_count": 10,
   "metadata": {},
   "outputs": [
    {
     "name": "stdout",
     "output_type": "stream",
     "text": [
      "[*********************100%***********************]  1 of 1 downloaded\n"
     ]
    },
    {
     "data": {
      "text/html": [
       "\n",
       "\n",
       "\n",
       "\n",
       "\n",
       "\n",
       "  <div class=\"bk-root\" id=\"caf88d1f-75cc-49f8-822b-03ad07a6846e\" data-root-id=\"1962\"></div>\n"
      ]
     },
     "metadata": {},
     "output_type": "display_data"
    },
    {
     "data": {
      "application/javascript": [
       "(function(root) {\n",
       "  function embed_document(root) {\n",
       "    \n",
       "  var docs_json = {\"cf263488-5ce3-45b7-acde-1d6a55bd6185\":{\"roots\":{\"references\":[{\"attributes\":{\"background_fill_alpha\":{\"value\":0.3},\"background_fill_color\":{\"value\":\"grey\"},\"below\":[{\"id\":\"1973\",\"type\":\"LinearAxis\"}],\"center\":[{\"id\":\"1977\",\"type\":\"Grid\"},{\"id\":\"1982\",\"type\":\"Grid\"}],\"left\":[{\"id\":\"1978\",\"type\":\"LinearAxis\"}],\"renderers\":[{\"id\":\"1999\",\"type\":\"GlyphRenderer\"}],\"title\":{\"id\":\"1963\",\"type\":\"Title\"},\"toolbar\":{\"id\":\"1989\",\"type\":\"Toolbar\"},\"x_range\":{\"id\":\"1965\",\"type\":\"DataRange1d\"},\"x_scale\":{\"id\":\"1969\",\"type\":\"LinearScale\"},\"y_range\":{\"id\":\"1967\",\"type\":\"DataRange1d\"},\"y_scale\":{\"id\":\"1971\",\"type\":\"LinearScale\"}},\"id\":\"1962\",\"subtype\":\"Figure\",\"type\":\"Plot\"},{\"attributes\":{},\"id\":\"2071\",\"type\":\"BasicTickFormatter\"},{\"attributes\":{\"callback\":null},\"id\":\"1967\",\"type\":\"DataRange1d\"},{\"attributes\":{\"bottom_units\":\"screen\",\"fill_alpha\":{\"value\":0.5},\"fill_color\":{\"value\":\"lightgrey\"},\"left_units\":\"screen\",\"level\":\"overlay\",\"line_alpha\":{\"value\":1.0},\"line_color\":{\"value\":\"black\"},\"line_dash\":[4,4],\"line_width\":{\"value\":2},\"render_mode\":\"css\",\"right_units\":\"screen\",\"top_units\":\"screen\"},\"id\":\"2073\",\"type\":\"BoxAnnotation\"},{\"attributes\":{},\"id\":\"1986\",\"type\":\"SaveTool\"},{\"attributes\":{\"dimension\":1,\"ticker\":{\"id\":\"1979\",\"type\":\"BasicTicker\"}},\"id\":\"1982\",\"type\":\"Grid\"},{\"attributes\":{\"callback\":null},\"id\":\"1965\",\"type\":\"DataRange1d\"},{\"attributes\":{},\"id\":\"2075\",\"type\":\"UnionRenderers\"},{\"attributes\":{\"source\":{\"id\":\"1961\",\"type\":\"ColumnDataSource\"}},\"id\":\"2000\",\"type\":\"CDSView\"},{\"attributes\":{\"data_source\":{\"id\":\"1961\",\"type\":\"ColumnDataSource\"},\"glyph\":{\"id\":\"1997\",\"type\":\"MultiLine\"},\"hover_glyph\":null,\"muted_glyph\":null,\"nonselection_glyph\":{\"id\":\"1998\",\"type\":\"MultiLine\"},\"selection_glyph\":null,\"view\":{\"id\":\"2000\",\"type\":\"CDSView\"}},\"id\":\"1999\",\"type\":\"GlyphRenderer\"},{\"attributes\":{},\"id\":\"2074\",\"type\":\"Selection\"},{\"attributes\":{\"line_color\":{\"value\":\"navy\"},\"line_width\":{\"value\":2},\"xs\":{\"field\":\"x\"},\"ys\":{\"field\":\"y\"}},\"id\":\"1997\",\"type\":\"MultiLine\"},{\"attributes\":{},\"id\":\"1971\",\"type\":\"LinearScale\"},{\"attributes\":{},\"id\":\"1983\",\"type\":\"PanTool\"},{\"attributes\":{},\"id\":\"1974\",\"type\":\"BasicTicker\"},{\"attributes\":{},\"id\":\"1969\",\"type\":\"LinearScale\"},{\"attributes\":{\"axis_label\":\"Stock Price\",\"formatter\":{\"id\":\"2069\",\"type\":\"BasicTickFormatter\"},\"ticker\":{\"id\":\"1974\",\"type\":\"BasicTicker\"}},\"id\":\"1973\",\"type\":\"LinearAxis\"},{\"attributes\":{\"active_drag\":\"auto\",\"active_inspect\":\"auto\",\"active_multi\":null,\"active_scroll\":\"auto\",\"active_tap\":\"auto\",\"tools\":[{\"id\":\"1983\",\"type\":\"PanTool\"},{\"id\":\"1984\",\"type\":\"WheelZoomTool\"},{\"id\":\"1985\",\"type\":\"BoxZoomTool\"},{\"id\":\"1986\",\"type\":\"SaveTool\"},{\"id\":\"1987\",\"type\":\"ResetTool\"},{\"id\":\"1988\",\"type\":\"HelpTool\"}]},\"id\":\"1989\",\"type\":\"Toolbar\"},{\"attributes\":{},\"id\":\"2069\",\"type\":\"BasicTickFormatter\"},{\"attributes\":{\"line_alpha\":{\"value\":0.1},\"line_color\":{\"value\":\"#1f77b4\"},\"line_width\":{\"value\":2},\"xs\":{\"field\":\"x\"},\"ys\":{\"field\":\"y\"}},\"id\":\"1998\",\"type\":\"MultiLine\"},{\"attributes\":{\"callback\":null,\"data\":{\"x\":[[90.69,91.08462311557788,91.47924623115577,91.87386934673367,92.26849246231156,92.66311557788944,93.05773869346733,93.45236180904523,93.84698492462311,94.241608040201,94.63623115577889,95.03085427135679,95.42547738693467,95.82010050251256,96.21472361809045,96.60934673366833,97.00396984924623,97.39859296482412,97.793216080402,98.18783919597989,98.58246231155779,98.97708542713568,99.37170854271356,99.76633165829145,100.16095477386935,100.55557788944724,100.95020100502512,101.34482412060301,101.7394472361809,102.1340703517588,102.52869346733668,102.92331658291457,103.31793969849247,103.71256281407035,104.10718592964824,104.50180904522612,104.89643216080401,105.29105527638191,105.6856783919598,106.08030150753768,106.47492462311557,106.86954773869346,107.26417085427136,107.65879396984924,108.05341708542713,108.44804020100503,108.84266331658291,109.2372864321608,109.63190954773869,110.02653266331657,110.42115577889447,110.81577889447236,111.21040201005025,111.60502512562815,111.99964824120603,112.39427135678392,112.7888944723618,113.18351758793969,113.57814070351759,113.97276381909548,114.36738693467336,114.76201005025125,115.15663316582913,115.55125628140703,115.94587939698492,116.34050251256281,116.73512562814071,117.1297487437186,117.52437185929648,117.91899497487437,118.31361809045225,118.70824120603015,119.10286432160804,119.49748743718592,119.89211055276381,120.2867336683417,120.6813567839196,121.07597989949748,121.47060301507537,121.86522613065327,122.25984924623116,122.65447236180904,123.04909547738693,123.44371859296481,123.83834170854271,124.2329648241206,124.62758793969849,125.02221105527639,125.41683417085426,125.81145728643216,126.20608040201004,126.60070351758793,126.99532663316583,127.38994974874372,127.7845728643216,128.1791959798995,128.57381909547738,128.96844221105528,129.36306532663315,129.75768844221105,130.15231155778895,130.54693467336682,130.94155778894472,131.33618090452262,131.7308040201005,132.1254271356784,132.5200502512563,132.91467336683417,133.30929648241207,133.70391959798994,134.09854271356784,134.4931658291457,134.8877889447236,135.2824120603015,135.67703517587938,136.07165829145728,136.46628140703518,136.86090452261305,137.25552763819096,137.65015075376886,138.04477386934673,138.43939698492463,138.8340201005025,139.2286432160804,139.62326633165827,140.01788944723617,140.41251256281407,140.80713567839194,141.20175879396984,141.59638190954774,141.99100502512562,142.38562814070352,142.78025125628142,143.1748743718593,143.5694974874372,143.96412060301506,144.35874371859296,144.75336683417083,145.14798994974873,145.54261306532663,145.9372361809045,146.3318592964824,146.7264824120603,147.12110552763818,147.51572864321608,147.91035175879398,148.30497487437185,148.69959798994975,149.09422110552762,149.48884422110552,149.8834673366834,150.2780904522613,150.6727135678392,151.06733668341707,151.46195979899497,151.85658291457287,152.25120603015074,152.64582914572864,153.04045226130654,153.4350753768844,153.8296984924623,154.22432160804019,154.61894472361809,155.01356783919596,155.40819095477386,155.80281407035176,156.19743718592963,156.59206030150753,156.98668341708543,157.3813065326633,157.7759296482412,158.1705527638191,158.56517587939697,158.95979899497488,159.35442211055278,159.74904522613065,160.14366834170852,160.53829145728642,160.93291457286432,161.3275376884422,161.7221608040201,162.116783919598,162.51140703517586,162.90603015075376,163.30065326633166,163.69527638190954,164.08989949748744,164.48452261306534,164.8791457286432,165.27376884422108,165.668391959799,166.06301507537688,166.45763819095475,166.85226130653265,167.24688442211055,167.64150753768843,168.03613065326633,168.43075376884423,168.8253768844221,169.22]],\"y\":[[0.003394021353649045,0.003466206659405198,0.003539287661957833,0.003613274370223896,0.0036881774492888574,0.003764008213779891,0.0038407786175856207,0.003918501239825436,0.003997189266982763,0.004076856471128676,0.0041575171841747825,0.004239186268107407,0.0043218790811686576,0.004405611439963959,0.0044903995774900115,0.0045762600970919295,0.004663209922373204,0.004751266243097532,0.0048404464571369255,0.004930768108536005,0.005022248821778094,0.005114906232354303,0.005208757913752432,0.005303821300997776,0.0054001136108934806,0.005497651759122859,0.005596452274391068,0.0056965312097976535,0.005797904051645745,0.005900585625906959,0.006004590002574058,0.006109930398145973,0.006216619076501291,0.006324667248427521,0.006434084970083744,0.00654488104068372,0.006657062899695307,0.006770636523859777,0.006885606324341589,0.007001975044325183,0.0071197436573802375,0.007238911266920869,0.00735947500708729,0.007481429945380184,0.007604768987379011,0.007729482783875113,0.007855559640749193,0.00798298543192031,0.008111743515689829,0.008241814654799333,0.008373176940515566,0.008505805721048755,0.008639673534602677,0.008774750047345955,0.008911001996584022,0.009048393139400224,0.0091868842070226,0.009326432865159877,0.009466993680536563,0.009608518093842127,0.009750954399294015,0.009894247730997783,0.010038340056270622,0.0101831701760771,0.010328673732707358,0.010474783224809414,0.01062142802986758,0.010768534434199499,0.010916025670523966,0.0110638219631311,0.011211840580665957,0.011359995896515455,0.011508199456767693,0.011656360055691352,0.011804383818662082,0.011952174292441588,0.012099632542694253,0.012246657258605721,0.012393144864447309,0.012538989637910187,0.012684083835013675,0.012828317821373074,0.012971580209593533,0.013113758002538806,0.013254736742206332,0.013394400663923358,0.013532632855563201,0.013669315421465407,0.013804329650729658,0.013937556189539877,0.014068875217162501,0.014198166625251763,0.01432531020008426,0.01445018580733583,0.014572673579005461,0.014692654102083848,0.014810008608558004,0.014924619166338539,0.015036368870692188,0.015145142035759831,0.015250824385738233,0.01535330324530378,0.01545246772885705,0.015548208928168782,0.01564042009801122,0.015728996839362457,0.015813837279776925,0.015894842250521398,0.015971915460083065,0.01604496366366469,0.01611389682829125,0.016178628293162505,0.016239074924897484,0.016295157267328657,0.016346799685516722,0.016393930503670513,0.016436482136671107,0.01647439121491446,0.01650759870220261,0.0165360500064301,0.016559695082829288,0.016578488529555766,0.016592389675413054,0.016601362659534324,0.01660537650285754,0.016604405171249566,0.016598427630154167,0.01658742789065822,0.01657139504689034,0.01655032330468575,0.016524212001471028,0.016493065617342293,0.01645689377733004,0.016415711244863417,0.016369537906466322,0.016318398747736926,0.01626232382068109,0.016201348202489127,0.01613551194586341,0.016064860021022625,0.01598944224952577,0.01590931323007616,0.015824532256482546,0.015735163227970035,0.015641274552049438,0.01554293904016837,0.01544023379638173,0.015333240099292678,0.015222043277528458,0.015106732579027279,0.014987401034424254,0.014864145314834834,0.014737065584344589,0.014606265347522863,0.014471851292286607,0.014333933128448152,0.01419262342228748,0.014048037427495282,0.013900292912838626,0.013749509986904824,0.013595810920282806,0.013439319965543938,0.013280163175385433,0.013118468219301342,0.012954364199144898,0.012787981463946467,0.012619451424348784,0.012448906367019235,0.012276479269395688,0.012102303615118036,0.011926513210493298,0.011749242002336251,0.011570623897521315,0.011390792584574531,0.011209881357626848,0.011028022943041223,0.01084534932901726,0.010661991598467733,0.01047807976545043,0.010293742615428536,0.010109107549621122,0.009924300433693772,0.00973944545102654,0.009554664960784165,0.009370079361000112,0.009185806956872494,0.009001963834455841,0.008818663739919118,0.008636017964525232,0.008454135235473162,0.008273121612728937,0.008093080391956603,0.007914112013645249,0.0077363139785133475,0.007559780769256308,0.007384603778687949,0.0072108712443118015,0.007038668189343241,0.006868076370188205,0.006699174230370273]]},\"selected\":{\"id\":\"2074\",\"type\":\"Selection\"},\"selection_policy\":{\"id\":\"2075\",\"type\":\"UnionRenderers\"}},\"id\":\"1961\",\"type\":\"ColumnDataSource\"},{\"attributes\":{\"overlay\":{\"id\":\"2073\",\"type\":\"BoxAnnotation\"}},\"id\":\"1985\",\"type\":\"BoxZoomTool\"},{\"attributes\":{\"ticker\":{\"id\":\"1974\",\"type\":\"BasicTicker\"}},\"id\":\"1977\",\"type\":\"Grid\"},{\"attributes\":{},\"id\":\"1979\",\"type\":\"BasicTicker\"},{\"attributes\":{},\"id\":\"1988\",\"type\":\"HelpTool\"},{\"attributes\":{\"axis_label\":\"Density\",\"formatter\":{\"id\":\"2071\",\"type\":\"BasicTickFormatter\"},\"ticker\":{\"id\":\"1979\",\"type\":\"BasicTicker\"}},\"id\":\"1978\",\"type\":\"LinearAxis\"},{\"attributes\":{\"text\":\"Density Plot of Stock Price\"},\"id\":\"1963\",\"type\":\"Title\"},{\"attributes\":{},\"id\":\"1987\",\"type\":\"ResetTool\"},{\"attributes\":{},\"id\":\"1984\",\"type\":\"WheelZoomTool\"}],\"root_ids\":[\"1962\"]},\"title\":\"Bokeh Application\",\"version\":\"1.3.4\"}};\n",
       "  var render_items = [{\"docid\":\"cf263488-5ce3-45b7-acde-1d6a55bd6185\",\"roots\":{\"1962\":\"caf88d1f-75cc-49f8-822b-03ad07a6846e\"}}];\n",
       "  root.Bokeh.embed.embed_items_notebook(docs_json, render_items);\n",
       "\n",
       "  }\n",
       "  if (root.Bokeh !== undefined) {\n",
       "    embed_document(root);\n",
       "  } else {\n",
       "    var attempts = 0;\n",
       "    var timer = setInterval(function(root) {\n",
       "      if (root.Bokeh !== undefined) {\n",
       "        embed_document(root);\n",
       "        clearInterval(timer);\n",
       "      }\n",
       "      attempts++;\n",
       "      if (attempts > 100) {\n",
       "        console.log(\"Bokeh: ERROR: Unable to run BokehJS code because BokehJS library is missing\");\n",
       "        clearInterval(timer);\n",
       "      }\n",
       "    }, 10, root)\n",
       "  }\n",
       "})(window);"
      ],
      "application/vnd.bokehjs_exec.v0+json": ""
     },
     "metadata": {
      "application/vnd.bokehjs_exec.v0+json": {
       "id": "1962"
      }
     },
     "output_type": "display_data"
    }
   ],
   "source": [
    "# prepare some data\n",
    "xs = []\n",
    "ys = []\n",
    "start = '2010-01-01'\n",
    "end = '2019-09-20'\n",
    "stockcode = 'IBM'\n",
    "stock = yf.download(stockcode,start,end)\n",
    "bandwidth = 1\n",
    "plot_val = stock['Adj Close']\n",
    "range_start = min(plot_val)\n",
    "range_end = max(plot_val)\n",
    "\n",
    "# compute the kde\n",
    "kde = gaussian_kde(plot_val, bw_method=bandwidth)\n",
    "# Evenly space x values\n",
    "x = np.linspace(range_start, range_end, 200)\n",
    "# Evaluate pdf at every value of x\n",
    "y = kde.pdf(x)\n",
    "# Append the values to plot\n",
    "xs.append(list(x))\n",
    "ys.append(list(y))      \n",
    "\n",
    "# Construct ColumnDataSource from kde\n",
    "kernel_source = ColumnDataSource(data={'x': xs, 'y': ys})\n",
    "    \n",
    "p = figure(plot_width = 600, plot_height = 600, \n",
    "           background_fill_color = \"grey\",\n",
    "           background_fill_alpha = 0.3,\n",
    "           title = 'Density Plot of Stock Price',\n",
    "           x_axis_label = 'Stock Price', y_axis_label = 'Density')\n",
    "\n",
    "# add renderer\n",
    "p.multi_line(source = kernel_source, xs='x', ys='y',\n",
    "             color = 'navy', line_width = 2)\n",
    "\n",
    "# show the results\n",
    "show(p)"
   ]
  },
  {
   "cell_type": "markdown",
   "metadata": {},
   "source": [
    "### Generate a simple application of interactive kernel density plot with user-defined bandwdith"
   ]
  },
  {
   "cell_type": "markdown",
   "metadata": {},
   "source": [
    "Basically, the task here becomes more complicated. The first half the python code is almost the same as before. However, for the second half, we are required to define new functions to fullfil the requirement of Bokeh to develop this simple application. In partcular, a big function modify_doc() is defined to handle all the operations when the density plot is generated and updated. Within the modify_doc() function, make_dataset(), make_plot() and update() are specified to construct the data set for plotting, graphical plot in the output, procedure of update respectively. Note that these three funcctions must be defined here as required by Bokeh.\n",
    "\n",
    "Since we want to change the value of bandwidth and its effect on the density plot, the Slider() method is applied here to specify the change in the value in bandwidth by the users. The bandwidth_select.on_change() can detect any change in the value of bandwidth and the plot will be updated accordingly.\n",
    "\n",
    "Then, the objects src and p are constructed initially under the default value of bandwidth, which is 5 in this example. Also, the object controls by the method WidgetBox() collects the list of controls on the webpage and the arrangement of controls is handled by the method row(). Afterwards, we may make a tab with layout using the methods Panel() and Tabs(). Each tab is then added to the doc object in the modify_doc() method at the beginning.\n",
    "\n",
    "Finally, the application can be established by the methods FunctionHandler() and Application()."
   ]
  },
  {
   "cell_type": "code",
   "execution_count": 11,
   "metadata": {},
   "outputs": [
    {
     "name": "stdout",
     "output_type": "stream",
     "text": [
      "[*********************100%***********************]  1 of 1 downloaded\n"
     ]
    }
   ],
   "source": [
    "# prepare some data\n",
    "xs = []\n",
    "ys = []\n",
    "start = '2010-01-01'\n",
    "end = '2019-09-20'\n",
    "stockcode = 'IBM'\n",
    "stock = yf.download(stockcode,start,end)\n",
    "bandwidth = 1\n",
    "plot_val = stock['Adj Close']\n",
    "range_start = min(plot_val)\n",
    "range_end = max(plot_val)\n",
    "\n",
    "def modify_doc(doc):\n",
    "\n",
    "    def make_dataset(bandwidth = 5):\n",
    "        xs = []; ys = []\n",
    "        # compute the kde\n",
    "        kde = gaussian_kde(plot_val, bw_method=bandwidth)\n",
    "        # Evenly space x values\n",
    "        x = np.linspace(range_start, range_end, 200)\n",
    "        # Evaluate pdf at every value of x\n",
    "        y = kde.pdf(x)\n",
    "        # Append the values to plot\n",
    "        xs.append(list(x))\n",
    "        ys.append(list(y)) \n",
    "\n",
    "        return ColumnDataSource(data={'x': xs, 'y': ys})\n",
    "    \n",
    "    def make_plot(src):\n",
    "        # Blank plot with correct labels\n",
    "        p = figure(plot_width = 600, plot_height = 600, \n",
    "                   background_fill_color = \"grey\",\n",
    "                   background_fill_alpha = 0.3,\n",
    "                   title = 'Density Plot of Stock Price',\n",
    "                   x_axis_label = 'Stock Price', y_axis_label = 'Density')\n",
    "\n",
    "        # Construct the line plot for density\n",
    "        p.multi_line(source = src, xs='x', ys='y',\n",
    "             color = 'navy', line_width = 2)\n",
    "\n",
    "        return p\n",
    "    \n",
    "    def update(attr, old, new):\n",
    "        new_src = make_dataset(bandwidth = bandwidth_select.value)\n",
    "        src.data.update(new_src.data)\n",
    "\n",
    "    # define a slider to choose bandwidth\n",
    "    bandwidth_select = Slider(start = 0.01, end = 2,\n",
    "                              step = 0.01, value = 0.2,\n",
    "                              title = 'Bandwidth')\n",
    "    bandwidth_select.on_change('value', update)\n",
    "    \n",
    "    src = make_dataset(bandwidth = bandwidth_select.value)\n",
    "    \n",
    "    p = make_plot(src)\n",
    "    \n",
    "    # Put controls in a single element\n",
    "    controls = WidgetBox(bandwidth_select)\n",
    "    \n",
    "    # Create a row layout\n",
    "    layout = row(controls, p)\n",
    "    \n",
    "    # Make a tab with the layout \n",
    "    tab = Panel(child=layout, title = 'Stock Price Density')\n",
    "    tabs = Tabs(tabs=[tab])\n",
    "    \n",
    "    doc.add_root(tabs)\n",
    "    \n",
    "# Set up an application\n",
    "handler = FunctionHandler(modify_doc)\n",
    "app = Application(handler)"
   ]
  },
  {
   "cell_type": "code",
   "execution_count": 12,
   "metadata": {},
   "outputs": [
    {
     "data": {
      "application/vnd.bokehjs_exec.v0+json": "",
      "text/html": [
       "\n",
       "<script src=\"http://localhost:59650/autoload.js?bokeh-autoload-element=2124&bokeh-absolute-url=http://localhost:59650&resources=none\" id=\"2124\"></script>"
      ]
     },
     "metadata": {
      "application/vnd.bokehjs_exec.v0+json": {
       "server_id": "1271160cc8af4943b2bdb66c78876b78"
      }
     },
     "output_type": "display_data"
    }
   ],
   "source": [
    "show(app)"
   ]
  },
  {
   "cell_type": "code",
   "execution_count": null,
   "metadata": {},
   "outputs": [],
   "source": []
  }
 ],
 "metadata": {
  "kernelspec": {
   "display_name": "Python 3",
   "language": "python",
   "name": "python3"
  },
  "language_info": {
   "codemirror_mode": {
    "name": "ipython",
    "version": 3
   },
   "file_extension": ".py",
   "mimetype": "text/x-python",
   "name": "python",
   "nbconvert_exporter": "python",
   "pygments_lexer": "ipython3",
   "version": "3.7.3"
  }
 },
 "nbformat": 4,
 "nbformat_minor": 2
}
